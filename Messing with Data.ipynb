{
 "cells": [
  {
   "cell_type": "code",
   "execution_count": null,
   "metadata": {},
   "outputs": [],
   "source": [
    "import pandas as pd\n",
    "import numpy as np\n",
    "import scipy.stats as stats\n",
    "import matplotlib.pyplot as plt"
   ]
  },
  {
   "cell_type": "code",
   "execution_count": null,
   "metadata": {},
   "outputs": [],
   "source": [
    "df = pd.read_csv('suicides_heat.csv')"
   ]
  },
  {
   "cell_type": "code",
   "execution_count": null,
   "metadata": {},
   "outputs": [],
   "source": [
    "df"
   ]
  },
  {
   "cell_type": "code",
   "execution_count": null,
   "metadata": {},
   "outputs": [],
   "source": [
    "summer = df.query('5 < Month < 9')\n",
    "winter = df.query('Month < 4 or Month > 10')\n",
    "spring = df.query('3 < Month < 6')\n",
    "longsummer = df.query('3 < Month < 9')\n",
    "fall = df.query('8 < Month < 11')"
   ]
  },
  {
   "cell_type": "code",
   "execution_count": null,
   "metadata": {},
   "outputs": [],
   "source": [
    "summer"
   ]
  },
  {
   "cell_type": "code",
   "execution_count": null,
   "metadata": {},
   "outputs": [],
   "source": [
    "q_95 = np.quantile(df.query('3 < Month < 9').avg_max_heat_index.dropna(), .95)\n",
    "q_95"
   ]
  },
  {
   "cell_type": "code",
   "execution_count": null,
   "metadata": {},
   "outputs": [],
   "source": [
    "q_05 = np.quantile(df.query('3 < Month < 9').avg_max_heat_index.dropna(), .05)\n",
    "q_05"
   ]
  },
  {
   "cell_type": "code",
   "execution_count": null,
   "metadata": {},
   "outputs": [],
   "source": [
    "q_50 = np.quantile(df.query('3 < Month < 9').avg_max_heat_index.dropna(), .50)\n",
    "q_50"
   ]
  },
  {
   "cell_type": "code",
   "execution_count": null,
   "metadata": {},
   "outputs": [],
   "source": [
    "summer_df = summer[['State', 'avg_max_heat_index', 'heat_index_diff', 'Deaths', 'Crude Rate']]\n",
    "summer_df"
   ]
  },
  {
   "cell_type": "code",
   "execution_count": null,
   "metadata": {},
   "outputs": [],
   "source": [
    "def heat_category(temp, low, high):\n",
    "    if temp <= low:\n",
    "        return 'low heat'\n",
    "    if temp >= high:\n",
    "        return 'high heat'\n",
    "    return 'medium heat'\n",
    "\n",
    "summer_df['heat_index_level'] = summer_df['avg_max_heat_index'].map(lambda x: heat_category(x, q_05, q_95))\n",
    "summer_df.head()"
   ]
  },
  {
   "cell_type": "code",
   "execution_count": null,
   "metadata": {},
   "outputs": [],
   "source": [
    "from statsmodels.stats.anova import AnovaRM"
   ]
  },
  {
   "cell_type": "code",
   "execution_count": null,
   "metadata": {},
   "outputs": [],
   "source": [
    "anovrm_1 = AnovaRM(summer_df, 'Deaths', 'State', within=['heat_index_level'], aggregate_func=np.mean)\n",
    "res = anovrm_1.fit()\n",
    "\n",
    "print(res)"
   ]
  },
  {
   "cell_type": "code",
   "execution_count": null,
   "metadata": {},
   "outputs": [],
   "source": [
    "def parser(x):\n",
    "    return pd.datetime.strptime(x, '%Y/%m')\n",
    "\n",
    "suicides = pd.read_csv('suicides_heat.csv', parse_dates=['Month Code'], index_col=0, date_parser=parser)"
   ]
  },
  {
   "cell_type": "code",
   "execution_count": null,
   "metadata": {},
   "outputs": [],
   "source": [
    "suicides"
   ]
  },
  {
   "cell_type": "code",
   "execution_count": null,
   "metadata": {},
   "outputs": [],
   "source": []
  }
 ],
 "metadata": {
  "language_info": {
   "name": "python",
   "pygments_lexer": "ipython3"
  }
 },
 "nbformat": 4,
 "nbformat_minor": 2
}

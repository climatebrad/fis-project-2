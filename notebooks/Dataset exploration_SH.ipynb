{
 "cells": [
  {
   "cell_type": "markdown",
   "metadata": {},
   "source": [
    "# Dataset exploration"
   ]
  },
  {
   "cell_type": "markdown",
   "metadata": {},
   "source": [
    "* [Annual mortality and causes by county, 1979-1988](https://www.cdc.gov/nchs/data_access/cmf.htm)\n",
    "* [Compressed mortality info, 1968-2016](https://wonder.cdc.gov/controller/datarequest/D140)"
   ]
  },
  {
   "cell_type": "markdown",
   "metadata": {},
   "source": [
    "[Rainfall and turnout](https://faculty.ucmerced.edu/thansford/Articles/The%20Republicans%20Should%20Pray%20for%20Rain%20-%20Weather,%20Turnour,%20and%20Voting%20in%20U.S.%20Presidential%20Elections.pdf)"
   ]
  },
  {
   "cell_type": "markdown",
   "metadata": {},
   "source": [
    "[Higher temperatures increase suicide rates in the\n",
    "United States and Mexico](https://web.stanford.edu/~mburke/papers/BurkeEtAl_NCC_2018.pdf)"
   ]
  },
  {
   "cell_type": "markdown",
   "metadata": {},
   "source": [
    "As temperatures go up, suicide rates go up.\n",
    "Heat waves, countries or regions that go through heat waves. During those times there were significant differences in suicide rates.\n",
    "\n",
    "Is there monthly data?"
   ]
  },
  {
   "cell_type": "markdown",
   "metadata": {},
   "source": [
    "[WHO mortality data](https://www.who.int/healthinfo/statistics/mortality_rawdata/en/)"
   ]
  },
  {
   "cell_type": "markdown",
   "metadata": {},
   "source": [
    "[CDC Multiple Mortality Cause files](https://www.cdc.gov/nchs/data_access/vitalstatsonline.htm#Mortality_Multiple)"
   ]
  },
  {
   "cell_type": "markdown",
   "metadata": {},
   "source": [
    "[Suicides and gun ownership](https://mason.gmu.edu/~atabarro/BriggsTabarrokFirearmsSuicide.pdf)"
   ]
  },
  {
   "cell_type": "code",
   "execution_count": null,
   "metadata": {},
   "outputs": [],
   "source": [
    "import pandas as pd\n",
    "import numpy as np\n",
    "import matplotlib.pyplot as plt\n",
    "import seaborn as sns\n",
    "import scipy.stats as stats"
   ]
  },
  {
   "cell_type": "markdown",
   "metadata": {},
   "source": [
    "# Suicides by Month, Year, State\n",
    "\n",
    "`suicides.txt` from https://wonder.cdc.gov/wonder/help/mcd.html, restricted to suicides\n",
    "* https://wonder.cdc.gov/mcd-icd10.html\n",
    "* Click Agree\n",
    "* https://wonder.cdc.gov/controller/datarequest/D77\n",
    "* Group results by State, Year, Month\n",
    "* Ages exclude \"Not stated\"; Hispanic Origin exclude \"Not stated\"\n",
    "* Underlying cause of death: X60-X84 (Intentional self-harm)"
   ]
  },
  {
   "cell_type": "code",
   "execution_count": null,
   "metadata": {},
   "outputs": [],
   "source": [
    "suicides = pd.read_csv('suicides_heat.csv')\n",
    "suicides.describe()"
   ]
  },
  {
   "cell_type": "markdown",
   "metadata": {},
   "source": [
    "# Exploratory Data Analysis"
   ]
  },
  {
   "cell_type": "code",
   "execution_count": null,
   "metadata": {},
   "outputs": [],
   "source": [
    "sns.barplot(x='State', y='Crude Rate', data=suicides)"
   ]
  },
  {
   "cell_type": "code",
   "execution_count": null,
   "metadata": {},
   "outputs": [],
   "source": [
    "sns.scatterplot(x='avg_max_t', y='Crude Rate',  data=suicides.query('4 < Month < 10'), hue='Month', legend='full')"
   ]
  },
  {
   "cell_type": "code",
   "execution_count": null,
   "metadata": {},
   "outputs": [],
   "source": [
    "sns.scatterplot(x='avg_max_heat_index', \n",
    "                y='Crude Rate', data=suicides.query('4 < Month < 10'), hue='Month', legend='full')"
   ]
  },
  {
   "cell_type": "code",
   "execution_count": null,
   "metadata": {},
   "outputs": [],
   "source": [
    "sns.lmplot(x='avg_max_heat_index', \n",
    "                y='Crude Rate', data=suicides.query('4 < Month < 10'), legend='full')"
   ]
  },
  {
   "cell_type": "code",
   "execution_count": null,
   "metadata": {},
   "outputs": [],
   "source": [
    "sns.scatterplot(x='heat_index_diff', y='Crude Rate', data=suicides.query('4 < Month < 10'), hue='Month')"
   ]
  },
  {
   "cell_type": "markdown",
   "metadata": {},
   "source": [
    "What if we compare when heat_index diff > 5 to when heat_index diff < 5"
   ]
  },
  {
   "cell_type": "code",
   "execution_count": null,
   "metadata": {},
   "outputs": [],
   "source": [
    "sns.lmplot(x='heat_index_diff', y='Crude Rate', data=suicides.query('4 < Month < 10'))"
   ]
  },
  {
   "cell_type": "code",
   "execution_count": null,
   "metadata": {},
   "outputs": [],
   "source": [
    "sns.scatterplot(x='max_t_diff', y='Crude Rate', data=suicides.query('4 < Month < 10'), hue='Month')"
   ]
  },
  {
   "cell_type": "code",
   "execution_count": null,
   "metadata": {},
   "outputs": [],
   "source": [
    "sns.scatterplot(x='min_t_diff', y='Crude Rate', data=suicides.query('4 < Month < 10'), hue='Month')"
   ]
  },
  {
   "cell_type": "markdown",
   "metadata": {},
   "source": [
    "There may be a time effect over the years!"
   ]
  },
  {
   "cell_type": "code",
   "execution_count": null,
   "metadata": {},
   "outputs": [],
   "source": [
    "sns.scatterplot(x='Month Code', y='Crude Rate', data=suicides[suicides.State == 'California'],hue='Month', legend='full')"
   ]
  },
  {
   "cell_type": "markdown",
   "metadata": {},
   "source": [
    "There is a strong annual trend."
   ]
  },
  {
   "cell_type": "code",
   "execution_count": null,
   "metadata": {},
   "outputs": [],
   "source": [
    "plt.plot(suicides.groupby('Year').sum().Deaths)\n",
    "plt.style.use('ggplot')\n",
    "plt.xlabel('Year')\n",
    "plt.ylabel('Suicides')\n",
    "plt.title('Suicides per Year in the US');"
   ]
  },
  {
   "cell_type": "markdown",
   "metadata": {},
   "source": [
    "Chi-squared tells us whether two categorical variables are independent"
   ]
  },
  {
   "cell_type": "markdown",
   "metadata": {},
   "source": [
    "\n",
    "understand occurences with one object and many factors\n",
    "chi-squared test\n",
    "```\n",
    "                 99   | 00   | 01    | 02 | 03 ... 17\n",
    "AL suicides      sum    sum    sum    sum   sum ...\n",
    "CA \n",
    "CO\n",
    "...\n",
    "```"
   ]
  },
  {
   "cell_type": "code",
   "execution_count": null,
   "metadata": {},
   "outputs": [],
   "source": [
    "in summer months: categorical variable low heat,  high heat "
   ]
  },
  {
   "cell_type": "code",
   "execution_count": null,
   "metadata": {},
   "outputs": [],
   "source": [
    "plt.plot(suicides.groupby('Year').mean()['heat_index_diff'])\n",
    "plt.style.use('ggplot')\n",
    "# plt.xlabel('Year')\n",
    "# plt.ylabel('heat index diff')\n",
    "# plt.title('heat index diff Year in the US');"
   ]
  },
  {
   "cell_type": "markdown",
   "metadata": {},
   "source": [
    "## Hypothesis 1 - winter gets more suicides than summer"
   ]
  },
  {
   "cell_type": "code",
   "execution_count": null,
   "metadata": {},
   "outputs": [],
   "source": [
    "summer = suicides.query('5 < Month < 9')\n",
    "winter = suicides.query('Month < 4 or Month > 10')\n",
    "spring = suicides.query('3 < Month < 6')\n",
    "longsummer = suicides.query('3 < Month < 9')\n",
    "fall = suicides.query('8 < Month < 11')"
   ]
  },
  {
   "cell_type": "code",
   "execution_count": null,
   "metadata": {},
   "outputs": [],
   "source": [
    "plt.hist(longsummer['Crude Rate'], bins='auto', alpha=.5, label='April-August')\n",
    "plt.hist(winter['Crude Rate'], bins='auto', alpha=.5, label='November-March')\n",
    "# plt.hist(fall.suicide_rate, bins='auto', alpha=.5, label='September-October')\n",
    "plt.legend()"
   ]
  },
  {
   "cell_type": "code",
   "execution_count": null,
   "metadata": {},
   "outputs": [],
   "source": [
    "stats.ttest_ind(winter['Crude Rate'], longsummer['Crude Rate'], equal_var=False)"
   ]
  },
  {
   "cell_type": "code",
   "execution_count": null,
   "metadata": {},
   "outputs": [],
   "source": [
    "# Cohen's d\n",
    "def cohen_d(x,y):\n",
    "    nx = len(x)\n",
    "    ny = len(y)\n",
    "    dof = nx + ny - 2\n",
    "    return (np.mean(x) - np.mean(y)) / np.sqrt(((nx-1)*np.std(x, ddof=1) ** 2 + (ny-1)*np.std(y, ddof=1) ** 2) / dof)\n",
    "\n",
    "cohen_d(winter['Crude Rate'], longsummer['Crude Rate'])"
   ]
  },
  {
   "cell_type": "markdown",
   "metadata": {},
   "source": [
    "## Let's cancel out year effect"
   ]
  },
  {
   "cell_type": "code",
   "execution_count": null,
   "metadata": {},
   "outputs": [],
   "source": [
    "# mean out the years\n",
    "# observations are states\n",
    "# group by states mean of rate by month\n",
    "suicides_by_month = suicides.groupby(['Month',\n",
    "                  'State']).agg('mean').reset_index() \\\n",
    "                .drop(columns=['Year','Year Code','min_t_diff', 'max_t_diff'])\n",
    "suicides_by_month"
   ]
  },
  {
   "cell_type": "markdown",
   "metadata": {},
   "source": [
    "Paired t-test. Compare the sum of the months against the mean of the months"
   ]
  },
  {
   "cell_type": "code",
   "execution_count": null,
   "metadata": {},
   "outputs": [],
   "source": [
    "summer_by_month = suicides_by_month.query('3 < Month < 9')\n",
    "winter_by_month = suicides_by_month.query('Month < 4 or Month > 10')"
   ]
  },
  {
   "cell_type": "code",
   "execution_count": null,
   "metadata": {},
   "outputs": [],
   "source": [
    "summer_by_month.groupby('State').mean()['Crude Rate']"
   ]
  },
  {
   "cell_type": "code",
   "execution_count": null,
   "metadata": {},
   "outputs": [],
   "source": [
    "stats.ttest_rel(summer_by_month.groupby('State').mean()['Crude Rate'], \n",
    "                winter_by_month.groupby('State').mean()['Crude Rate'])"
   ]
  },
  {
   "cell_type": "code",
   "execution_count": null,
   "metadata": {},
   "outputs": [],
   "source": [
    "cohen_d(summer_by_month.groupby('State').mean()['Crude Rate'], \n",
    "        winter_by_month.groupby('State').mean()['Crude Rate'])"
   ]
  },
  {
   "cell_type": "code",
   "execution_count": null,
   "metadata": {},
   "outputs": [],
   "source": [
    "stats.ttest_rel(summer_by_month.groupby('State').sum()['Crude Rate'], \n",
    "                winter_by_month.groupby('State').sum()['Crude Rate'])"
   ]
  },
  {
   "cell_type": "code",
   "execution_count": null,
   "metadata": {},
   "outputs": [],
   "source": [
    "cohen_d(summer_by_month.groupby('State').sum()['Crude Rate'], \n",
    "        winter_by_month.groupby('State').sum()['Crude Rate'])"
   ]
  },
  {
   "cell_type": "markdown",
   "metadata": {},
   "source": [
    "Nope, in fact spring & summer are worse than winter!"
   ]
  },
  {
   "cell_type": "code",
   "execution_count": null,
   "metadata": {},
   "outputs": [],
   "source": [
    "sns.distplot(suicides.query('3 < Month < 9').avg_max_heat_index.dropna())"
   ]
  },
  {
   "cell_type": "code",
   "execution_count": null,
   "metadata": {},
   "outputs": [],
   "source": [
    "sns.distplot(suicides.query('3 < Month < 9').heat_index_diff.dropna())"
   ]
  },
  {
   "cell_type": "code",
   "execution_count": null,
   "metadata": {},
   "outputs": [],
   "source": [
    "q_75 = np.quantile(suicides.query('3 < Month < 9').avg_max_heat_index.dropna(), .75)\n",
    "q_75"
   ]
  },
  {
   "cell_type": "code",
   "execution_count": null,
   "metadata": {},
   "outputs": [],
   "source": [
    "q_95 = np.quantile(suicides.query('3 < Month < 9').avg_max_heat_index.dropna(), .95)\n",
    "q_95"
   ]
  },
  {
   "cell_type": "code",
   "execution_count": null,
   "metadata": {},
   "outputs": [],
   "source": [
    "q_05 = np.quantile(suicides.query('3 < Month < 9').avg_max_heat_index.dropna(), .05)\n",
    "q_05"
   ]
  },
  {
   "cell_type": "code",
   "execution_count": null,
   "metadata": {},
   "outputs": [],
   "source": [
    "low_heat = longsummer.query(f'avg_max_heat_index < {q_75}')\n",
    "high_heat = longsummer.query(f'avg_max_heat_index > {q_95}')\n",
    "stats.ttest_ind(low_heat['Crude Rate'], high_heat['Crude Rate'], equal_var=False)"
   ]
  },
  {
   "cell_type": "code",
   "execution_count": null,
   "metadata": {},
   "outputs": [],
   "source": [
    "q_diff_75 = np.quantile(suicides.query('3 < Month < 9').heat_index_diff.dropna(), .75)\n",
    "q_diff_75"
   ]
  },
  {
   "cell_type": "code",
   "execution_count": null,
   "metadata": {},
   "outputs": [],
   "source": [
    "q_diff_95 = np.quantile(suicides.query('3 < Month < 9').heat_index_diff.dropna(), .95)\n",
    "q_diff_95"
   ]
  },
  {
   "cell_type": "code",
   "execution_count": null,
   "metadata": {},
   "outputs": [],
   "source": [
    "suicides.query('3 < Month < 9').groupby('Year').avg_max_heat_index.hist(alpha=.25, bins='auto')"
   ]
  },
  {
   "cell_type": "code",
   "execution_count": null,
   "metadata": {},
   "outputs": [],
   "source": [
    "suicides.query('3 < Month < 9').groupby('Year').heat_index_diff.hist(alpha=.25, bins='auto')"
   ]
  },
  {
   "cell_type": "code",
   "execution_count": null,
   "metadata": {},
   "outputs": [],
   "source": [
    "sns.distplot(suicides.query('3 < Month < 9').heat_index_diff.dropna())"
   ]
  },
  {
   "cell_type": "code",
   "execution_count": null,
   "metadata": {},
   "outputs": [],
   "source": [
    "np.quantile(suicides.query('3 < Month < 9').heat_index_diff.dropna(),.25)"
   ]
  },
  {
   "cell_type": "markdown",
   "metadata": {},
   "source": [
    "# SUMMER - LOW/MED/HIGH HEAT BY STATE\n"
   ]
  },
  {
   "cell_type": "code",
   "execution_count": null,
   "metadata": {},
   "outputs": [],
   "source": [
    "longsummer.query('State ==\"New York\"').describe()"
   ]
  },
  {
   "cell_type": "code",
   "execution_count": null,
   "metadata": {},
   "outputs": [],
   "source": []
  },
  {
   "cell_type": "code",
   "execution_count": null,
   "metadata": {},
   "outputs": [],
   "source": [
    "summer_by_month.query('State ==\"New York\"')"
   ]
  },
  {
   "cell_type": "code",
   "execution_count": null,
   "metadata": {},
   "outputs": [],
   "source": [
    "summer_by_month.groupby(['State','heat_index_level']).agg('mean').reset_index()"
   ]
  },
  {
   "cell_type": "code",
   "execution_count": null,
   "metadata": {},
   "outputs": [],
   "source": [
    "def heat_category(temp, low, high):\n",
    "    if temp <= low:\n",
    "        return 'low heat'\n",
    "    if temp >= high:\n",
    "        return 'high heat'\n",
    "    return 'medium heat'\n",
    "\n",
    "summer_by_month['heat_index_level'] = summer_by_month['avg_max_heat_index'].map(lambda x: heat_category(x, q_05, q_95))\n",
    "summer_by_month"
   ]
  },
  {
   "cell_type": "code",
   "execution_count": null,
   "metadata": {},
   "outputs": [],
   "source": []
  },
  {
   "cell_type": "code",
   "execution_count": null,
   "metadata": {},
   "outputs": [],
   "source": [
    "summer_by_month"
   ]
  },
  {
   "cell_type": "code",
   "execution_count": null,
   "metadata": {},
   "outputs": [],
   "source": [
    "suicides_by_state_and_heat = pd.pivot_table(summer_by_month, index='State', values='Deaths', \n",
    "                                            columns='heat_index_level', aggfunc=np.mean)\n",
    "suicides_by_state_and_heat"
   ]
  },
  {
   "cell_type": "code",
   "execution_count": null,
   "metadata": {},
   "outputs": [],
   "source": [
    "summer_by_month = summer_by_month.dropna()\n",
    "summer_by_month.info()"
   ]
  },
  {
   "cell_type": "code",
   "execution_count": null,
   "metadata": {},
   "outputs": [],
   "source": [
    "summer_by_month.groupby(['State']).count()"
   ]
  },
  {
   "cell_type": "code",
   "execution_count": null,
   "metadata": {},
   "outputs": [],
   "source": [
    "suicides.groupby(['State','Year']).sum().reset_index()"
   ]
  },
  {
   "cell_type": "code",
   "execution_count": null,
   "metadata": {},
   "outputs": [],
   "source": [
    "from statsmodels.stats.anova import AnovaRM\n",
    "\n",
    "anovrm_1 = AnovaRM(suicides.groupby(['State','Year']).sum().reset_index(), 'Deaths', 'State', within=['Year'], aggregate_func=np.mean)\n",
    "res = anovrm_1.fit()\n",
    "\n",
    "print(res)"
   ]
  },
  {
   "cell_type": "code",
   "execution_count": null,
   "metadata": {},
   "outputs": [],
   "source": [
    "east_99 = ['Maryland', 'Delaware', 'New Jersey', 'Rhode Island', 'West Virginia']"
   ]
  },
  {
   "cell_type": "code",
   "execution_count": null,
   "metadata": {},
   "outputs": [],
   "source": [
    "longsummer[longsummer.State.isin(east_99) & (longsummer.Year == 1999)]"
   ]
  },
  {
   "cell_type": "code",
   "execution_count": null,
   "metadata": {},
   "outputs": [],
   "source": []
  }
 ],
 "metadata": {
  "language_info": {
   "name": "python",
   "pygments_lexer": "ipython3"
  }
 },
 "nbformat": 4,
 "nbformat_minor": 2
}

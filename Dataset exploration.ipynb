{
 "cells": [
  {
   "cell_type": "markdown",
   "metadata": {},
   "source": [
    "# Dataset exploration"
   ]
  },
  {
   "cell_type": "markdown",
   "metadata": {},
   "source": [
    "* [Annual mortality and causes by county, 1979-1988](https://www.cdc.gov/nchs/data_access/cmf.htm)\n",
    "* [Compressed mortality info, 1968-2016](https://wonder.cdc.gov/controller/datarequest/D140)"
   ]
  },
  {
   "cell_type": "markdown",
   "metadata": {},
   "source": [
    "[Rainfall and turnout](https://faculty.ucmerced.edu/thansford/Articles/The%20Republicans%20Should%20Pray%20for%20Rain%20-%20Weather,%20Turnour,%20and%20Voting%20in%20U.S.%20Presidential%20Elections.pdf)"
   ]
  },
  {
   "cell_type": "markdown",
   "metadata": {},
   "source": [
    "[Higher temperatures increase suicide rates in the\n",
    "United States and Mexico](https://web.stanford.edu/~mburke/papers/BurkeEtAl_NCC_2018.pdf)"
   ]
  },
  {
   "cell_type": "markdown",
   "metadata": {},
   "source": [
    "As temperatures go up, suicide rates go up.\n",
    "Heat waves, countries or regions that go through heat waves. During those times there were significant differences in suicide rates.\n",
    "\n",
    "Is there monthly data?"
   ]
  },
  {
   "cell_type": "markdown",
   "metadata": {},
   "source": [
    "[WHO mortality data](https://www.who.int/healthinfo/statistics/mortality_rawdata/en/)"
   ]
  },
  {
   "cell_type": "markdown",
   "metadata": {},
   "source": [
    "[CDC Multiple Mortality Cause files](https://www.cdc.gov/nchs/data_access/vitalstatsonline.htm#Mortality_Multiple)"
   ]
  },
  {
   "cell_type": "markdown",
   "metadata": {},
   "source": [
    "[Suicides and gun ownership](https://mason.gmu.edu/~atabarro/BriggsTabarrokFirearmsSuicide.pdf)"
   ]
  },
  {
   "cell_type": "code",
   "execution_count": null,
   "metadata": {},
   "outputs": [],
   "source": [
    "import pandas as pd\n",
    "import numpy as np\n",
    "import matplotlib.pyplot as plt\n",
    "import seaborn as sns\n",
    "import scipy.stats as stats\n",
    "sns.set_context(\"talk\")\n",
    "plt.style.use('ggplot')"
   ]
  },
  {
   "cell_type": "markdown",
   "metadata": {},
   "source": [
    "## Read cleaned dataset from file"
   ]
  },
  {
   "cell_type": "code",
   "execution_count": null,
   "metadata": {},
   "outputs": [],
   "source": [
    "def parser(x):\n",
    "\treturn pd.datetime.strptime(x, '%Y/%m')\n",
    "\n",
    "suicides = pd.read_csv('data/suicides_heat.csv', parse_dates=['Month Code'], index_col=0, date_parser=parser)\n",
    "suicides"
   ]
  },
  {
   "cell_type": "markdown",
   "metadata": {},
   "source": [
    "# Exploratory Data Analysis"
   ]
  },
  {
   "cell_type": "code",
   "execution_count": null,
   "metadata": {},
   "outputs": [],
   "source": [
    "sns.barplot(x='State', y='suicide_rate', data=suicides)"
   ]
  },
  {
   "cell_type": "code",
   "execution_count": null,
   "metadata": {},
   "outputs": [],
   "source": [
    "sns.scatterplot(x='avg_max_t', y='suicide_rate',  data=suicides.query('4 < Month < 10'), hue='Month', legend='full')"
   ]
  },
  {
   "cell_type": "code",
   "execution_count": null,
   "metadata": {},
   "outputs": [],
   "source": [
    "sns.scatterplot(x='avg_max_heat_index', \n",
    "                y='suicide_rate', data=suicides.query('4 < Month < 10'), hue='Month', legend='full')"
   ]
  },
  {
   "cell_type": "code",
   "execution_count": null,
   "metadata": {},
   "outputs": [],
   "source": [
    "sns.lmplot(x='avg_max_heat_index', \n",
    "                y='suicide_rate', data=suicides.query('4 < Month < 10'), legend='full')"
   ]
  },
  {
   "cell_type": "code",
   "execution_count": null,
   "metadata": {},
   "outputs": [],
   "source": [
    "sns.scatterplot(x='heat_index_diff', y='suicide_rate', data=suicides.query('4 < Month < 10'), hue='Month')"
   ]
  },
  {
   "cell_type": "markdown",
   "metadata": {},
   "source": [
    "What if we compare when heat_index diff > 5 to when heat_index diff < 5"
   ]
  },
  {
   "cell_type": "code",
   "execution_count": null,
   "metadata": {},
   "outputs": [],
   "source": [
    "sns.lmplot(x='heat_index_diff', y='suicide_rate', data=suicides.query('4 < Month < 10'))"
   ]
  },
  {
   "cell_type": "code",
   "execution_count": null,
   "metadata": {},
   "outputs": [],
   "source": [
    "sns.scatterplot(x='max_t_diff', y='suicide_rate', data=suicides.query('4 < Month < 10'), hue='Month')"
   ]
  },
  {
   "cell_type": "code",
   "execution_count": null,
   "metadata": {},
   "outputs": [],
   "source": [
    "sns.scatterplot(x='min_t_diff', y='suicide_rate', data=suicides.query('4 < Month < 10'), hue='Month')"
   ]
  },
  {
   "cell_type": "markdown",
   "metadata": {},
   "source": [
    "There may be a time effect over the years!"
   ]
  },
  {
   "cell_type": "code",
   "execution_count": null,
   "metadata": {},
   "outputs": [],
   "source": [
    "sns.scatterplot(x='Month Code', y='suicide_rate', data=suicides[suicides.State == 'California'],hue='Month', legend='full')"
   ]
  },
  {
   "cell_type": "markdown",
   "metadata": {},
   "source": [
    "There is a strong annual trend."
   ]
  },
  {
   "cell_type": "code",
   "execution_count": null,
   "metadata": {},
   "outputs": [],
   "source": [
    "plt.plot(suicides.groupby('Year').sum().Deaths)\n",
    "plt.title('Suicides per Year in the US',size='x-large')\n",
    "plt.xlabel('Year')\n",
    "plt.ylabel('Suicides')"
   ]
  },
  {
   "cell_type": "code",
   "execution_count": null,
   "metadata": {},
   "outputs": [],
   "source": []
  },
  {
   "cell_type": "markdown",
   "metadata": {},
   "source": [
    "Chi-squared tells us whether two categorical variables are independent"
   ]
  },
  {
   "cell_type": "markdown",
   "metadata": {},
   "source": [
    "\n",
    "understand occurences with one object and many factors\n",
    "chi-squared test\n",
    "```\n",
    "                 99   | 00   | 01    | 02 | 03 ... 17\n",
    "AL suicides      sum    sum    sum    sum   sum ...\n",
    "CA \n",
    "CO\n",
    "...\n",
    "```"
   ]
  },
  {
   "cell_type": "code",
   "execution_count": null,
   "metadata": {},
   "outputs": [],
   "source": [
    "in summer months: categorical variable low heat,  high heat "
   ]
  },
  {
   "cell_type": "markdown",
   "metadata": {},
   "source": [
    "## Hypothesis 1 - winter gets more suicides than summer"
   ]
  },
  {
   "cell_type": "code",
   "execution_count": null,
   "metadata": {},
   "outputs": [],
   "source": [
    "summer = suicides.query('5 < Month < 9')\n",
    "winter = suicides.query('Month < 4 or Month > 10')\n",
    "spring = suicides.query('3 < Month < 6')\n",
    "longsummer = suicides.query('3 < Month < 9')\n",
    "fall = suicides.query('8 < Month < 11')"
   ]
  },
  {
   "cell_type": "code",
   "execution_count": null,
   "metadata": {},
   "outputs": [],
   "source": [
    "sns.distplot(winter.suicide_rate, label='November-March')\n",
    "sns.distplot(longsummer.suicide_rate, label='April-August')\n",
    "# plt.hist(fall.suicide_rate, bins='auto', alpha=.5, label='September-October')\n",
    "plt.legend()"
   ]
  },
  {
   "cell_type": "code",
   "execution_count": null,
   "metadata": {},
   "outputs": [],
   "source": [
    "stats.ttest_ind(winter.suicide_rate, longsummer.suicide_rate, equal_var=False)"
   ]
  },
  {
   "cell_type": "code",
   "execution_count": null,
   "metadata": {},
   "outputs": [],
   "source": [
    "# Cohen's d\n",
    "def cohen_d(x,y):\n",
    "    nx = len(x)\n",
    "    ny = len(y)\n",
    "    dof = nx + ny - 2\n",
    "    return np.abs((np.mean(x) - np.mean(y)) / np.sqrt(((nx-1)*np.std(x, ddof=1) ** 2 + (ny-1)*np.std(y, ddof=1) ** 2) / dof))\n",
    "\n",
    "cohen_d(winter.suicide_rate, longsummer.suicide_rate)"
   ]
  },
  {
   "cell_type": "markdown",
   "metadata": {},
   "source": [
    "## Let's cancel out year effect"
   ]
  },
  {
   "cell_type": "code",
   "execution_count": null,
   "metadata": {},
   "outputs": [],
   "source": [
    "vermont = suicides.query('State == \"New York\" & Month == 2').copy()\n",
    "vermont"
   ]
  },
  {
   "cell_type": "code",
   "execution_count": null,
   "metadata": {},
   "outputs": [],
   "source": [
    "vermont.query('Month == 12')"
   ]
  },
  {
   "cell_type": "code",
   "execution_count": null,
   "metadata": {},
   "outputs": [],
   "source": [
    "# mean out the years\n",
    "# observations are states\n",
    "# group by states mean of rate by month\n",
    "suicides_by_month = suicides.groupby(['Month',\n",
    "                  'State']).agg('mean').reset_index() \\\n",
    "                .drop(columns=['Year','Year Code','min_t_diff', 'max_t_diff', 'heat_index_diff'])\n",
    "suicides_by_month"
   ]
  },
  {
   "cell_type": "code",
   "execution_count": null,
   "metadata": {},
   "outputs": [],
   "source": [
    "suicides_by_month['is_winter'] = np.where((suicides_by_month.Month < 4) | (suicides_by_month.Month > 10), 1, 0)"
   ]
  },
  {
   "cell_type": "code",
   "execution_count": null,
   "metadata": {},
   "outputs": [],
   "source": [
    "X = suicides_by_month.dropna()[['Month','is_winter', 'avg_max_t', 'avg_min_t', 'avg_max_heat_index']].copy()\n",
    "X = sm.add_constant(X)\n",
    "Y = suicides_by_month.dropna()['suicide_rate']\n",
    "model = sm.OLS(Y,X)\n",
    "results = model.fit()\n",
    "results.summary()"
   ]
  },
  {
   "cell_type": "markdown",
   "metadata": {},
   "source": [
    "Paired t-test. Compare the sum of the months against the mean of the months"
   ]
  },
  {
   "cell_type": "code",
   "execution_count": null,
   "metadata": {},
   "outputs": [],
   "source": [
    "summer_by_month = suicides_by_month.query('3 < Month < 9')\n",
    "winter_by_month = suicides_by_month.query('Month < 4 or Month > 10')\n",
    "sns.distplot(summer_by_month.suicide_rate, label='April-August')\n",
    "sns.distplot(winter_by_month.suicide_rate, label='November-March')\n",
    "plt.legend()\n",
    "plt.rcParams[\"figure.figsize\"] = (10,6)\n",
    "\n",
    "plt.xlabel('suicide rate', size='x-large')\n",
    "plt.title('Suicides Are Higher in Summer Than Winter',size=24)\n",
    "sns.set_context(\"talk\")\n",
    "plt.style.use('ggplot')"
   ]
  },
  {
   "cell_type": "code",
   "execution_count": null,
   "metadata": {},
   "outputs": [],
   "source": [
    "summer_by_month.groupby('State').mean()['suicide_rate']"
   ]
  },
  {
   "cell_type": "code",
   "execution_count": null,
   "metadata": {},
   "outputs": [],
   "source": [
    "stats.ttest_rel(summer_by_month.groupby('State').mean()['suicide_rate'], \n",
    "                winter_by_month.groupby('State').mean()['suicide_rate'])"
   ]
  },
  {
   "cell_type": "code",
   "execution_count": null,
   "metadata": {},
   "outputs": [],
   "source": [
    "cohen_d(summer_by_month.groupby('State').mean()['suicide_rate'], \n",
    "        winter_by_month.groupby('State').mean()['suicide_rate'])"
   ]
  },
  {
   "cell_type": "code",
   "execution_count": null,
   "metadata": {},
   "outputs": [],
   "source": [
    "stats.ttest_rel(summer_by_month.groupby('State').sum()['suicide_rate'], \n",
    "                winter_by_month.groupby('State').sum()['suicide_rate'])"
   ]
  },
  {
   "cell_type": "code",
   "execution_count": null,
   "metadata": {},
   "outputs": [],
   "source": [
    "cohen_d(summer_by_month.groupby('State').sum()['suicide_rate'], \n",
    "        winter_by_month.groupby('State').sum()['suicide_rate'])"
   ]
  },
  {
   "cell_type": "markdown",
   "metadata": {},
   "source": [
    "Nope, in fact spring & summer are worse than winter!"
   ]
  },
  {
   "cell_type": "markdown",
   "metadata": {},
   "source": [
    "## Looking at all our data"
   ]
  },
  {
   "cell_type": "code",
   "execution_count": null,
   "metadata": {},
   "outputs": [],
   "source": [
    "sns.distplot(suicides.query('3 < Month < 9').avg_max_heat_index.dropna())"
   ]
  },
  {
   "cell_type": "code",
   "execution_count": null,
   "metadata": {},
   "outputs": [],
   "source": [
    "sns.distplot(suicides[suicides.Year == 2009].query('3 < Month < 9').avg_max_heat_index.dropna())"
   ]
  },
  {
   "cell_type": "code",
   "execution_count": null,
   "metadata": {},
   "outputs": [],
   "source": [
    "sns.distplot(suicides.query('3 < Month < 9').heat_index_diff.dropna())"
   ]
  },
  {
   "cell_type": "markdown",
   "metadata": {},
   "source": [
    "## Extreme heat in summer"
   ]
  },
  {
   "cell_type": "code",
   "execution_count": null,
   "metadata": {},
   "outputs": [],
   "source": [
    "q_75 = np.quantile(suicides.query('3 < Month < 9').avg_max_heat_index.dropna(), .75)\n",
    "q_75"
   ]
  },
  {
   "cell_type": "code",
   "execution_count": null,
   "metadata": {},
   "outputs": [],
   "source": [
    "q_05 = np.quantile(suicides.query('3 < Month < 9').avg_max_heat_index.dropna(), .05)\n",
    "q_05"
   ]
  },
  {
   "cell_type": "code",
   "execution_count": null,
   "metadata": {},
   "outputs": [],
   "source": [
    "q_95 = np.quantile(suicides.query('3 < Month < 9').avg_max_heat_index.dropna(), .95)\n",
    "q_95"
   ]
  },
  {
   "cell_type": "code",
   "execution_count": null,
   "metadata": {},
   "outputs": [],
   "source": [
    "low_heat = longsummer.query(f'avg_max_heat_index < {q_05}')\n",
    "high_heat = longsummer.query(f'avg_max_heat_index > {q_95}')\n",
    "stats.ttest_ind(low_heat.suicide_rate, high_heat.suicide_rate, equal_var=False)"
   ]
  },
  {
   "cell_type": "code",
   "execution_count": null,
   "metadata": {},
   "outputs": [],
   "source": []
  },
  {
   "cell_type": "markdown",
   "metadata": {},
   "source": [
    "## Unusually extreme heat has significant effect"
   ]
  },
  {
   "cell_type": "code",
   "execution_count": null,
   "metadata": {},
   "outputs": [],
   "source": [
    "longsummer[['State','Year','Month','suicide_rate','heat_index_diff']].dropna()"
   ]
  },
  {
   "cell_type": "code",
   "execution_count": null,
   "metadata": {},
   "outputs": [],
   "source": [
    "q_diff_05 = np.quantile(suicides.query('3 < Month < 9').heat_index_diff.dropna(), .05)\n",
    "q_diff_05"
   ]
  },
  {
   "cell_type": "code",
   "execution_count": null,
   "metadata": {},
   "outputs": [],
   "source": [
    "q_diff_95 = np.quantile(suicides.query('3 < Month < 9').heat_index_diff.dropna(), .95)\n",
    "q_diff_95"
   ]
  },
  {
   "cell_type": "code",
   "execution_count": null,
   "metadata": {},
   "outputs": [],
   "source": [
    "low_heat_diff = longsummer.query(f'heat_index_diff < {q_diff_05}')\n",
    "high_heat_diff = longsummer.query(f'heat_index_diff > {q_diff_95}')\n",
    "stats.ttest_rel(low_heat_diff.suicide_rate, high_heat_diff.suicide_rate)"
   ]
  },
  {
   "cell_type": "code",
   "execution_count": null,
   "metadata": {},
   "outputs": [],
   "source": [
    "low_heat_diff = longsummer.query(f'heat_index_diff < {q_diff_05} & Year == 2009').dropna()\n",
    "high_heat_diff = longsummer.query(f'heat_index_diff > {q_diff_95} & Year == 2009').dropna()\n",
    "stats.ttest_ind(low_heat_diff.suicide_rate, high_heat_diff.suicide_rate, equal_var=False)"
   ]
  },
  {
   "cell_type": "code",
   "execution_count": null,
   "metadata": {},
   "outputs": [],
   "source": [
    "longsummer.query('Year == 2009')"
   ]
  },
  {
   "cell_type": "code",
   "execution_count": null,
   "metadata": {},
   "outputs": [],
   "source": [
    "longsummer.query(f'heat_index_diff < {q_diff_05}').suicide_rate.hist(alpha=.5, bins='auto', \n",
    "                                                                     label='5th percentile heat-index difference')\n",
    "longsummer.query(f'heat_index_diff > {q_diff_95}').suicide_rate.hist(alpha=.5, bins='auto', \n",
    "                                                                     label='95th percentile heat-index difference')\n",
    "plt.legend()\n",
    "plt.style.use('seaborn-ticks')"
   ]
  },
  {
   "cell_type": "code",
   "execution_count": null,
   "metadata": {},
   "outputs": [],
   "source": [
    "cohen_d(longsummer.query(f'heat_index_diff < {q_diff_05}').suicide_rate, \n",
    "        longsummer.query(f'heat_index_diff > {q_diff_95}').suicide_rate)"
   ]
  },
  {
   "cell_type": "code",
   "execution_count": null,
   "metadata": {},
   "outputs": [],
   "source": [
    "def top_v_bottom(top, bottom, data, var, target, var_name=\"unusual heat\"):\n",
    "    data = data.dropna()\n",
    "    q_top = np.quantile(data[var], top)\n",
    "    q_bottom = np.quantile(data[var], bottom)\n",
    "    top_target = data[data[var] >= q_top][target]\n",
    "    bottom_target = data[data[var] <= q_bottom][target]\n",
    "    sns.distplot(top_target, label=f'{top*100:.0f}th percentile\\n{var_name}')\n",
    "    sns.distplot(bottom_target, label=f'{bottom*100:.0f}th percentile\\n{var_name}')\n",
    "    plt.xlabel(target.replace(\"_\",\" \"),size='xx-large')\n",
    "    plt.legend()\n",
    "    print(stats.ttest_ind(top_target, bottom_target, equal_var=False))\n",
    "    print(\"Cohen's D score: \", cohen_d(bottom_target, top_target))\n",
    "    \n",
    "def diff_95_v_05(data, var, target):\n",
    "    top_v_bottom(.95, .05, data, var, target)\n",
    "    \n",
    "diff_95_v_05(longsummer, 'heat_index_diff', 'suicide_rate')\n",
    "plt.title(\"Suicide Rate Higher \")"
   ]
  },
  {
   "cell_type": "code",
   "execution_count": null,
   "metadata": {},
   "outputs": [],
   "source": [
    "sns.distplot(longsummer.suicide_rate)"
   ]
  },
  {
   "cell_type": "code",
   "execution_count": null,
   "metadata": {},
   "outputs": [],
   "source": [
    "top_v_bottom(.9, .1, suicides_by_month, 'avg_max_heat_index', 'suicide_rate')"
   ]
  },
  {
   "cell_type": "code",
   "execution_count": null,
   "metadata": {},
   "outputs": [],
   "source": [
    "top_v_bottom(.95, .05, longsummer, 'avg_max_heat_index', 'suicide_rate')"
   ]
  },
  {
   "cell_type": "code",
   "execution_count": null,
   "metadata": {},
   "outputs": [],
   "source": [
    "diff_95_v_05(longsummer, 'heat_index_diff', 'suicide_rate')"
   ]
  },
  {
   "cell_type": "code",
   "execution_count": null,
   "metadata": {},
   "outputs": [],
   "source": [
    "top_v_bottom(.9, .1, longsummer, 'avg_max_heat_index', 'suicide_rate',var_name='heat index')\n",
    "plt.title(\"Suicide Rate During\\nWarm v. Cool Summer Months\", size=24)"
   ]
  },
  {
   "cell_type": "markdown",
   "metadata": {},
   "source": [
    "* hypothesis is that suicide rate during hot > suicide rate during cold.\n",
    "* null is that it is not greater.\n",
    "* 1-tailed test\n",
    "\n",
    "scipy always gives the test statistic as signed. This means that given p and t values from a two-tailed test, you would reject the null hypothesis of a greater-than test when p/2 < alpha and t > 0, and of a less-than test when p/2 < alpha and t < 0."
   ]
  },
  {
   "cell_type": "code",
   "execution_count": null,
   "metadata": {},
   "outputs": [],
   "source": [
    "stats.ttest_ind(x, y), this makes a Hypothesis Test on the value of x.mean()-y.mean(), which means that in order to get positive values throughout the calculation (which simplifies all considerations) we have to call\n",
    "\n",
    "stats.ttest_ind(longsummer[long,A)"
   ]
  },
  {
   "cell_type": "code",
   "execution_count": null,
   "metadata": {},
   "outputs": [],
   "source": [
    "top_v_bottom(.9, .1, longsummer, 'heat_index_diff', 'suicide_rate')\n",
    "plt.title(\"Suicide Rate During\\nUnusually Warm v. Cool Summer Months\", size=24)"
   ]
  },
  {
   "cell_type": "code",
   "execution_count": null,
   "metadata": {},
   "outputs": [],
   "source": [
    "southeast = (\"Alabama\", \"Florida\", \"Georgia\", \"Kentucky\", \"Mississippi\", \"North Carolina\", \"South Carolina\", \"Tennessee\")\n",
    "top_v_bottom(.9, .1, longsummer[longsummer.State.isin(southeast)], 'heat_index_diff', 'suicide_rate')"
   ]
  },
  {
   "cell_type": "code",
   "execution_count": null,
   "metadata": {},
   "outputs": [],
   "source": []
  },
  {
   "cell_type": "markdown",
   "metadata": {},
   "source": [
    "## Year is such a big factor. We can't ignore that"
   ]
  },
  {
   "cell_type": "code",
   "execution_count": null,
   "metadata": {},
   "outputs": [],
   "source": [
    "top_v_bottom(.85, .15, longsummer[longsummer.State.isin(southeast)], 'Year', 'suicide_rate')"
   ]
  },
  {
   "cell_type": "code",
   "execution_count": null,
   "metadata": {},
   "outputs": [],
   "source": [
    "sns.scatterplot(x='Month Code', y='suicide_rate',data=longsummer[longsummer.State.isin(southeast)])"
   ]
  },
  {
   "cell_type": "code",
   "execution_count": null,
   "metadata": {},
   "outputs": [],
   "source": [
    "import statsmodels.api as sm"
   ]
  },
  {
   "cell_type": "code",
   "execution_count": null,
   "metadata": {},
   "outputs": [],
   "source": [
    "X = longsummer.dropna()[['Year','Month','heat_index_diff', 'min_t_diff', 'max_t_diff']].copy()\n",
    "X = sm.add_constant(X)\n",
    "Y = longsummer.dropna()['suicide_rate']\n",
    "model = sm.OLS(Y,X)\n",
    "results = model.fit()\n",
    "results.summary()"
   ]
  },
  {
   "cell_type": "code",
   "execution_count": null,
   "metadata": {},
   "outputs": [],
   "source": [
    "results.tvalues"
   ]
  },
  {
   "cell_type": "code",
   "execution_count": null,
   "metadata": {},
   "outputs": [],
   "source": [
    "top_v_bottom(.85, .15, longsummer[~longsummer.State.isin(southeast)], 'heat_index_diff', 'suicide_rate')"
   ]
  },
  {
   "cell_type": "code",
   "execution_count": null,
   "metadata": {},
   "outputs": [],
   "source": [
    "northeast = (\"Connecticut\", 'Maine', \"Massachusetts\", \"New Hampshire\", \"Rhode Island\", \"Vermont\", \"New Jersey\", \"New York\", \"Pennsylvania\")\n",
    "top_v_bottom(.9, .1, longsummer[longsummer.State.isin(northeast)], 'heat_index_diff', 'suicide_rate')\n",
    "plt.title('Northeast',size='xx-large')"
   ]
  },
  {
   "cell_type": "code",
   "execution_count": null,
   "metadata": {},
   "outputs": [],
   "source": [
    "top_v_bottom(.85, .15, longsummer[longsummer.State.isin(northeast)], 'avg_max_t', 'suicide_rate')"
   ]
  },
  {
   "cell_type": "code",
   "execution_count": null,
   "metadata": {},
   "outputs": [],
   "source": [
    "longsummer[longsummer.State.isin(southeast)]"
   ]
  },
  {
   "cell_type": "code",
   "execution_count": null,
   "metadata": {},
   "outputs": [],
   "source": [
    "suicides.query('3 < Month < 9').groupby('Year').avg_max_heat_index.hist(alpha=.25, bins='auto')"
   ]
  },
  {
   "cell_type": "code",
   "execution_count": null,
   "metadata": {},
   "outputs": [],
   "source": [
    "suicides.query('3 < Month < 9').groupby('Year').heat_index_diff.hist(alpha=.25, bins='auto')"
   ]
  },
  {
   "cell_type": "code",
   "execution_count": null,
   "metadata": {},
   "outputs": [],
   "source": [
    "sns.distplot(suicides.query('3 < Month < 9').heat_index_diff.dropna())"
   ]
  },
  {
   "cell_type": "code",
   "execution_count": null,
   "metadata": {},
   "outputs": [],
   "source": [
    "np.quantile(suicides.query('3 < Month < 9').heat_index_diff.dropna(),.25)"
   ]
  },
  {
   "cell_type": "code",
   "execution_count": null,
   "metadata": {},
   "outputs": [],
   "source": [
    "## Suicides by states vs years\n",
    "suicides.groupby(['State', 'Year']).sum()['Deaths']"
   ]
  },
  {
   "cell_type": "code",
   "execution_count": null,
   "metadata": {},
   "outputs": [],
   "source": [
    "suicides_by_state_and_year = pd.pivot_table(suicides, index='State', values='suicide_rate', columns='Year', aggfunc=np.mean).dropna()\n",
    "suicides_by_state_and_year"
   ]
  },
  {
   "cell_type": "code",
   "execution_count": null,
   "metadata": {},
   "outputs": [],
   "source": [
    "stats.chisquare(suicides_by_state_and_year)"
   ]
  },
  {
   "cell_type": "code",
   "execution_count": null,
   "metadata": {},
   "outputs": [],
   "source": [
    "stats.chisquare(suicides_by_state_and_year.query('State in (\"Alabama\", \"Mississippi\")'))"
   ]
  },
  {
   "cell_type": "code",
   "execution_count": null,
   "metadata": {},
   "outputs": [],
   "source": [
    "df = pd.read_csv('https://raw.githubusercontent.com/plotly/datasets/master/2011_us_ag_exports.csv')"
   ]
  },
  {
   "cell_type": "code",
   "execution_count": null,
   "metadata": {},
   "outputs": [],
   "source": [
    "suicides = suicides.merge(df[['state','code']], left_on='State', right_on='state').drop(columns='state')"
   ]
  },
  {
   "cell_type": "code",
   "execution_count": null,
   "metadata": {},
   "outputs": [],
   "source": [
    "import plotly.graph_objects as go"
   ]
  },
  {
   "cell_type": "code",
   "execution_count": null,
   "metadata": {},
   "outputs": [],
   "source": [
    "fig = go.Figure(data=go.Choropleth(\n",
    "    locations=suicides.groupby('code').mean().index, # Spatial coordinates\n",
    "    z = suicides.groupby('code').mean().suicide_rate, # Data to be color-coded\n",
    "    locationmode = 'USA-states', # set of locations match entries in `locations`\n",
    "    colorscale = 'Reds',\n",
    "#    colorbar_title = \"Millions USD\",\n",
    "))\n",
    "fig.update_layout(\n",
    "#    title_text = 'US Suicide Rates',\n",
    "    geo_scope='usa', # limit map scope to USA\n",
    ")\n",
    "fig.show(renderer=\"png\", width=1000, height=800)"
   ]
  },
  {
   "cell_type": "code",
   "execution_count": null,
   "metadata": {},
   "outputs": [],
   "source": [
    "fig = go.Figure(data=go.Choropleth(\n",
    "    locations=suicides.groupby('code').mean().index, # Spatial coordinates\n",
    "    z = suicides.query('3 < Month < 9').groupby('code').mean().suicide_rate - suicides.query('Month < 4 or Month > 10').groupby('code').mean().suicide_rate, # Data to be color-coded\n",
    "    locationmode = 'USA-states', # set of locations match entries in `locations`\n",
    "    colorscale = 'Reds',\n",
    "#    colorbar_title = \"Millions USD\",\n",
    "))\n",
    "fig.update_layout(\n",
    "#    title_text = 'US Suicide Rates',\n",
    "    geo_scope='usa', # limit map scope to USA\n",
    ")\n",
    "fig.show(renderer=\"png\", width=1000, height=800)"
   ]
  },
  {
   "cell_type": "code",
   "execution_count": null,
   "metadata": {},
   "outputs": [],
   "source": [
    "fig = go.Figure(data=go.Choropleth(\n",
    "    locations=suicides.groupby('code').mean().index, # Spatial coordinates\n",
    "    z = (suicides.query('Year == 2011').groupby('code').mean().suicide_rate \n",
    "        - suicides.query('Year == 1999').groupby('code').mean().suicide_rate) / suicides.query('Year == 1999').groupby('code').mean().suicide_rate, # Data to be color-coded\n",
    "    locationmode = 'USA-states', # set of locations match entries in `locations`\n",
    "    colorscale='RdBu',\n",
    "    reversescale=True,\n",
    "    zmid=0\n",
    "#    colorbar_title = \"Millions USD\",\n",
    "))\n",
    "fig.update_layout(\n",
    "    title_text = \"Suicide Rate Change from 1999 to 2011\",\n",
    "    geo_scope='usa', # limit map scope to USA\n",
    ")\n",
    "fig.show(renderer=\"png\", width=1000, height=800)"
   ]
  },
  {
   "cell_type": "code",
   "execution_count": null,
   "metadata": {},
   "outputs": [],
   "source": [
    "fig = go.Figure(data=go.Choropleth(\n",
    "    locations=suicides.groupby('code').mean().index, # Spatial coordinates\n",
    "    z = suicides.groupby('code').mean().avg_max_heat_index, # Data to be color-coded\n",
    "    locationmode = 'USA-states', # set of locations match entries in `locations`\n",
    "    colorscale = 'Reds',\n",
    "#    colorbar_title = \"Millions USD\",\n",
    "))\n",
    "fig.update_layout(\n",
    "#    title_text = '2011 US Agriculture Exports by State',\n",
    "    geo_scope='usa', # limit map scope to USA\n",
    ")\n",
    "fig.show(renderer=\"png\", width=1000, height=800)"
   ]
  },
  {
   "cell_type": "code",
   "execution_count": null,
   "metadata": {},
   "outputs": [],
   "source": [
    "fig = go.Figure(data=go.Choropleth(\n",
    "    locations=suicides.groupby('code').mean().index, # Spatial coordinates\n",
    "    z = suicides.groupby('code').mean().avg_max_t, # Data to be color-coded\n",
    "    locationmode = 'USA-states', # set of locations match entries in `locations`\n",
    "    colorscale = 'Reds',\n",
    "#    colorbar_title = \"Millions USD\",\n",
    "))\n",
    "fig.update_layout(\n",
    "#    title_text = '2011 US Agriculture Exports by State',\n",
    "    geo_scope='usa', # limit map scope to USA\n",
    ")\n",
    "fig.show()"
   ]
  },
  {
   "cell_type": "code",
   "execution_count": null,
   "metadata": {},
   "outputs": [],
   "source": [
    "fig = go.Figure(data=go.Choropleth(\n",
    "    locations=suicides.query('3 < Month < 9').groupby('code').mean().index, # Spatial coordinates\n",
    "    z = suicides.query('3 < Month < 9').groupby('code').std().avg_max_heat_index, # Data to be color-coded\n",
    "    locationmode = 'USA-states', # set of locations match entries in `locations`\n",
    "    colorscale = 'Reds',\n",
    "#    colorbar_title = \"Millions USD\",\n",
    "))\n",
    "fig.update_layout(\n",
    "#    title_text = '2011 US Agriculture Exports by State',\n",
    "    geo_scope='usa', # limit map scope to USA\n",
    ")\n",
    "fig.show()"
   ]
  },
  {
   "cell_type": "code",
   "execution_count": null,
   "metadata": {},
   "outputs": [],
   "source": [
    "fig = go.Figure(data=go.Choropleth(\n",
    "    locations=suicides.query('3 < Month < 9').groupby('code').mean().index, # Spatial coordinates\n",
    "    z = suicides.query('3 < Month < 9').groupby('code').std().avg_max_heat_index, # Data to be color-coded\n",
    "    locationmode = 'USA-states', # set of locations match entries in `locations`\n",
    "    colorscale = 'Reds',\n",
    "#    colorbar_title = \"Millions USD\",\n",
    "))\n",
    "fig.update_layout(\n",
    "#    title_text = '2011 US Agriculture Exports by State',\n",
    "    geo_scope='usa', # limit map scope to USA\n",
    ")\n",
    "fig.show()"
   ]
  },
  {
   "cell_type": "code",
   "execution_count": null,
   "metadata": {},
   "outputs": [],
   "source": [
    "suicides.groupby('code').mean().index"
   ]
  },
  {
   "cell_type": "code",
   "execution_count": null,
   "metadata": {},
   "outputs": [],
   "source": [
    "q_diff_90 = np.quantile(suicides.query('3 < Month < 9').dropna().heat_index_diff, .9)\n",
    "q_diff_90"
   ]
  },
  {
   "cell_type": "code",
   "execution_count": null,
   "metadata": {},
   "outputs": [],
   "source": [
    "suicides.query(f'3 < Month < 9 & heat_index_diff >= {q_diff_90}').groupby('code').count()"
   ]
  },
  {
   "cell_type": "code",
   "execution_count": null,
   "metadata": {},
   "outputs": [],
   "source": [
    "fig = go.Figure(data=go.Choropleth(\n",
    "    locations=suicides.query(f'3 < Month < 9 & heat_index_diff >= {q_diff_90}').groupby('code').count().index, # Spatial coordinates\n",
    "    z = suicides.query(f'3 < Month < 9 & heat_index_diff >= {q_diff_90}').groupby('code').count().heat_index_diff, # Data to be color-coded\n",
    "    locationmode = 'USA-states', # set of locations match entries in `locations`\n",
    "    colorscale = 'Reds',\n",
    "#    colorbar_title = \"Millions USD\",\n",
    "))\n",
    "fig.update_layout(\n",
    "#    title_text = '2011 US Agriculture Exports by State',\n",
    "    geo_scope='usa', # limit map scope to USA\n",
    ")\n",
    "fig.show(renderer=\"png\", width=1000, height=800)"
   ]
  },
  {
   "cell_type": "code",
   "execution_count": null,
   "metadata": {},
   "outputs": [],
   "source": [
    "suicides.query(f'3 < Month < 9 & heat_index_diff >= {q_diff_90}').groupby('code').count().index"
   ]
  },
  {
   "cell_type": "code",
   "execution_count": null,
   "metadata": {},
   "outputs": [],
   "source": [
    "plt.plot(suicides.query(f'3 < Month < 9 & heat_index_diff >= {q_diff_90}').groupby('Year').count().State)"
   ]
  },
  {
   "cell_type": "code",
   "execution_count": null,
   "metadata": {},
   "outputs": [],
   "source": [
    "suicides.query(f'3 < Month < 9 & heat_index_diff >= {q_diff_90}')"
   ]
  },
  {
   "cell_type": "markdown",
   "metadata": {},
   "source": [
    "## Detrend data experiment"
   ]
  },
  {
   "cell_type": "code",
   "execution_count": null,
   "metadata": {},
   "outputs": [],
   "source": [
    "plt.plot(suicides.groupby('Month Code').sum().Deaths)"
   ]
  },
  {
   "cell_type": "code",
   "execution_count": null,
   "metadata": {},
   "outputs": [],
   "source": [
    "from sklearn.linear_model import LinearRegression\n",
    "# fit linear model\n",
    "series = suicides.query('State == \"Missouri\"').copy()\n",
    "X = [i for i in range(0, len(series))]\n",
    "X = np.reshape(X, (len(X), 1))\n",
    "y = series.suicide_rate.reset_index(drop=True)\n",
    "model = LinearRegression()\n",
    "model.fit(X, y)\n",
    "# calculate trend\n",
    "trend = model.predict(X)\n",
    "# plot trend\n",
    "plt.plot(y)\n",
    "plt.plot(trend)\n",
    "plt.show()\n"
   ]
  },
  {
   "cell_type": "code",
   "execution_count": null,
   "metadata": {},
   "outputs": [],
   "source": [
    "print(f\"best fit: y = {model.coef_[0]:.04f} x + {model.intercept_:.04f}\")"
   ]
  },
  {
   "cell_type": "code",
   "execution_count": null,
   "metadata": {},
   "outputs": [],
   "source": [
    "# detrend\n",
    "detrended = [y[i]-trend[i] + y.mean() for i in range(0, len(series))] \n",
    "# plot detrended\n",
    "plt.plot(detrended)\n",
    "plt.show()"
   ]
  },
  {
   "cell_type": "code",
   "execution_count": null,
   "metadata": {},
   "outputs": [],
   "source": [
    "series['detrended_suicide_rate'] = detrended"
   ]
  },
  {
   "cell_type": "code",
   "execution_count": null,
   "metadata": {},
   "outputs": [],
   "source": [
    "series"
   ]
  },
  {
   "cell_type": "code",
   "execution_count": null,
   "metadata": {},
   "outputs": [],
   "source": [
    "top_v_bottom(.90, .1, series.query('3 < Month < 9'), 'heat_index_diff', 'detrended_suicide_rate')\n",
    "plt.title(\"Missouri detrended\",size='xx-large')"
   ]
  },
  {
   "cell_type": "code",
   "execution_count": null,
   "metadata": {},
   "outputs": [],
   "source": [
    "plt.plot(series.heat_index_diff)"
   ]
  },
  {
   "cell_type": "code",
   "execution_count": null,
   "metadata": {},
   "outputs": [],
   "source": []
  }
 ],
 "metadata": {
  "language_info": {
   "name": "python",
   "pygments_lexer": "ipython3"
  }
 },
 "nbformat": 4,
 "nbformat_minor": 2
}

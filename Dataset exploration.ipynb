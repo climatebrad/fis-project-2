{
 "cells": [
  {
   "cell_type": "markdown",
   "metadata": {},
   "source": [
    "# Dataset exploration"
   ]
  },
  {
   "cell_type": "code",
   "execution_count": null,
   "metadata": {},
   "outputs": [],
   "source": [
    "import pandas as pd\n",
    "import numpy as np\n",
    "import matplotlib.pyplot as plt\n",
    "import seaborn as sns\n",
    "import scipy.stats as stats\n",
    "from data_loader import load_final\n",
    "from data_analysis import cohen_d, top_v_bottom, summer_v_winter, suicides_by_month\n",
    "sns.set_context(\"talk\")\n",
    "plt.style.use('ggplot')"
   ]
  },
  {
   "cell_type": "markdown",
   "metadata": {},
   "source": [
    "## Read cleaned dataset from file"
   ]
  },
  {
   "cell_type": "code",
   "execution_count": null,
   "metadata": {},
   "outputs": [],
   "source": [
    "suicides = load_final('data/suicides_heat.csv')\n",
    "suicides.head()"
   ]
  },
  {
   "cell_type": "markdown",
   "metadata": {},
   "source": [
    "# Exploratory Data Analysis"
   ]
  },
  {
   "cell_type": "markdown",
   "metadata": {},
   "source": [
    "There is a strong annual trend."
   ]
  },
  {
   "cell_type": "code",
   "execution_count": null,
   "metadata": {},
   "outputs": [],
   "source": [
    "plt.plot(suicides.groupby('Year').sum().Deaths)\n",
    "plt.title('Suicides per Year in the US', size=24)\n",
    "plt.xlabel('Year')\n",
    "plt.ylabel('Suicides');"
   ]
  },
  {
   "cell_type": "markdown",
   "metadata": {},
   "source": [
    "## Hypothesis 1 - winter gets more suicides than summer"
   ]
  },
  {
   "cell_type": "code",
   "execution_count": null,
   "metadata": {},
   "outputs": [],
   "source": [
    "summer_v_winter(suicides, 'suicide_rate')"
   ]
  },
  {
   "cell_type": "markdown",
   "metadata": {},
   "source": [
    "Looks like summer has more suicides than winter."
   ]
  },
  {
   "cell_type": "markdown",
   "metadata": {},
   "source": [
    "## Let's cancel out year effect"
   ]
  },
  {
   "cell_type": "code",
   "execution_count": null,
   "metadata": {},
   "outputs": [],
   "source": [
    "importlib.reload(data_analysis)\n",
    "from data_analysis import data_by_month"
   ]
  },
  {
   "cell_type": "code",
   "execution_count": null,
   "metadata": {},
   "outputs": [],
   "source": [
    "suicides_by_month = data_by_month(suicides)\n",
    "suicides_by_month.head()"
   ]
  },
  {
   "cell_type": "code",
   "execution_count": null,
   "metadata": {},
   "outputs": [],
   "source": [
    "summer_v_winter(suicides_by_month, 'suicide_rate')"
   ]
  },
  {
   "cell_type": "markdown",
   "metadata": {},
   "source": [
    "Paired t-test. Compare the sum of the months against the mean of the months"
   ]
  },
  {
   "cell_type": "code",
   "execution_count": null,
   "metadata": {},
   "outputs": [],
   "source": [
    "summer_by_month = suicides_by_month.query('4 <= Month <= 8')\n",
    "winter_by_month = suicides_by_month.query('Month <= 3 or Month >= 11')\n",
    "sns.distplot(summer_by_month.suicide_rate, label='April-August')\n",
    "sns.distplot(winter_by_month.suicide_rate, label='November-March')\n",
    "plt.legend()\n",
    "plt.rcParams[\"figure.figsize\"] = (10,6)\n",
    "\n",
    "plt.xlabel('suicide rate', size='x-large')\n",
    "plt.title('Suicides Are Higher in Summer Than Winter',size=24)\n",
    "sns.set_context(\"talk\")\n",
    "plt.style.use('ggplot')\n",
    "t_stat, p_value = stats.ttest_rel(summer_by_month.suicide_rate, winter_by_month.suicide_rate)\n",
    "print(f\"Paired t-test: t-statistic: {t_stat:.03f}; p-value: {p_value / 2}\")\n",
    "print(\"Cohen's d: {:.03f}\".format(cohen_d(winter_by_month.suicide_rate, summer_by_month.suicide_rate)))"
   ]
  },
  {
   "cell_type": "markdown",
   "metadata": {},
   "source": [
    "Nope, in fact spring & summer are worse than winter!"
   ]
  },
  {
   "cell_type": "markdown",
   "metadata": {},
   "source": [
    "## Extreme heat in summer"
   ]
  },
  {
   "cell_type": "markdown",
   "metadata": {},
   "source": [
    "### High heat has no significant effect"
   ]
  },
  {
   "cell_type": "code",
   "execution_count": null,
   "metadata": {},
   "outputs": [],
   "source": [
    "importlib.reload(data_analysis)\n",
    "from data_analysis import top_v_bottom"
   ]
  },
  {
   "cell_type": "code",
   "execution_count": null,
   "metadata": {},
   "outputs": [],
   "source": [
    "summer = suicides.query('4 <= Month <= 9')"
   ]
  },
  {
   "cell_type": "code",
   "execution_count": null,
   "metadata": {},
   "outputs": [],
   "source": [
    "top_v_bottom(.1, summer, 'avg_max_heat_index', 'suicide_rate', var_name='heat index')\n",
    "plt.title(\"Suicide Rate During\\nWarm v. Cool Summer Months\", size=24)"
   ]
  },
  {
   "cell_type": "markdown",
   "metadata": {},
   "source": [
    "### Unusually high heat does have a significant effect"
   ]
  },
  {
   "cell_type": "code",
   "execution_count": null,
   "metadata": {},
   "outputs": [],
   "source": [
    "top_v_bottom(.1, summer, 'heat_index_diff', 'suicide_rate')\n",
    "plt.title(\"Suicide Rate During\\nUnusually Warm v. Cool Summer Months\", size=24)"
   ]
  },
  {
   "cell_type": "markdown",
   "metadata": {},
   "source": [
    "### Particularly in the Southeast"
   ]
  },
  {
   "cell_type": "code",
   "execution_count": null,
   "metadata": {},
   "outputs": [],
   "source": [
    "southeast = (\"Alabama\", \"Florida\", \"Georgia\", \"Kentucky\", \"Mississippi\", \n",
    "             \"North Carolina\", \"South Carolina\", \"Tennessee\")\n",
    "top_v_bottom(.1, summer[summer.State.isin(southeast)], 'heat_index_diff', 'suicide_rate')\n",
    "plt.title(\"Suicide Rate During Unusual Heat,\\nSoutheastern U.S.\", size=24)"
   ]
  },
  {
   "cell_type": "markdown",
   "metadata": {},
   "source": [
    "### No significant effect in Northeast (for example)"
   ]
  },
  {
   "cell_type": "code",
   "execution_count": null,
   "metadata": {},
   "outputs": [],
   "source": [
    "northeast = (\"Connecticut\", 'Maine', \"Massachusetts\", \"New Hampshire\", \n",
    "             \"Rhode Island\", \"Vermont\", \"New Jersey\", \"New York\", \"Pennsylvania\")\n",
    "top_v_bottom(.1, summer[summer.State.isin(northeast)], 'heat_index_diff', 'suicide_rate')\n",
    "plt.title('Northeast',size='xx-large')"
   ]
  },
  {
   "cell_type": "markdown",
   "metadata": {},
   "source": [
    "## It's possible we're seeing a year effect in our extreme-heat analysis"
   ]
  },
  {
   "cell_type": "code",
   "execution_count": null,
   "metadata": {},
   "outputs": [],
   "source": [
    "top_v_bottom(.1, summer, 'Year', 'suicide_rate')"
   ]
  },
  {
   "cell_type": "markdown",
   "metadata": {},
   "source": [
    "### Multivariate linear regression "
   ]
  },
  {
   "cell_type": "code",
   "execution_count": null,
   "metadata": {},
   "outputs": [],
   "source": [
    "import statsmodels.api as sm"
   ]
  },
  {
   "cell_type": "code",
   "execution_count": null,
   "metadata": {},
   "outputs": [],
   "source": [
    "X = summer.dropna()[['Year','Month','heat_index_diff', 'min_t_diff', 'max_t_diff']].copy()\n",
    "X = sm.add_constant(X)\n",
    "Y = summer.dropna()['suicide_rate']\n",
    "model = sm.OLS(Y,X)\n",
    "results = model.fit()\n",
    "results.summary()"
   ]
  },
  {
   "cell_type": "code",
   "execution_count": null,
   "metadata": {},
   "outputs": [],
   "source": [
    "results.tvalues"
   ]
  },
  {
   "cell_type": "markdown",
   "metadata": {},
   "source": [
    "## Are suicides by state independent from suicides by year? Chi-square analysis"
   ]
  },
  {
   "cell_type": "code",
   "execution_count": null,
   "metadata": {},
   "outputs": [],
   "source": [
    "suicides_by_state_and_year = pd.pivot_table(suicides, \n",
    "                                            index='State', \n",
    "                                            values='suicide_rate', \n",
    "                                            columns='Year', aggfunc=np.mean).dropna()"
   ]
  },
  {
   "cell_type": "code",
   "execution_count": null,
   "metadata": {},
   "outputs": [],
   "source": [
    "stats.chisquare(suicides_by_state_and_year)"
   ]
  },
  {
   "cell_type": "markdown",
   "metadata": {},
   "source": [
    "Conclusion: They are not independent of each other."
   ]
  },
  {
   "cell_type": "code",
   "execution_count": null,
   "metadata": {},
   "outputs": [],
   "source": [
    "stats.chisquare(suicides_by_state_and_year.query('State in (\"Alabama\", \"Mississippi\")'))"
   ]
  },
  {
   "cell_type": "markdown",
   "metadata": {},
   "source": [
    "## Mapping the data"
   ]
  },
  {
   "cell_type": "markdown",
   "metadata": {},
   "source": [
    "Add state two-letter codes to suicides file"
   ]
  },
  {
   "cell_type": "code",
   "execution_count": null,
   "metadata": {},
   "outputs": [],
   "source": [
    "df = pd.read_csv('https://raw.githubusercontent.com/plotly/datasets/master/2011_us_ag_exports.csv')"
   ]
  },
  {
   "cell_type": "code",
   "execution_count": null,
   "metadata": {},
   "outputs": [],
   "source": [
    "suicides = suicides.merge(df[['state','code']], left_on='State', right_on='state').drop(columns='state')"
   ]
  },
  {
   "cell_type": "code",
   "execution_count": null,
   "metadata": {},
   "outputs": [],
   "source": [
    "import plotly.graph_objects as go"
   ]
  },
  {
   "cell_type": "code",
   "execution_count": null,
   "metadata": {},
   "outputs": [],
   "source": [
    "fig = go.Figure(data=go.Choropleth(\n",
    "    locations=suicides.groupby('code').mean().index, # Spatial coordinates\n",
    "    z = suicides.groupby('code').mean().suicide_rate, # Data to be color-coded\n",
    "    locationmode = 'USA-states', # set of locations match entries in `locations`\n",
    "    colorscale = 'Reds',\n",
    "    colorbar_title = \"suicide rate\",\n",
    "))\n",
    "fig.update_layout(\n",
    "    title_text = 'US Suicide Rates',\n",
    "    geo_scope='usa', # limit map scope to USA\n",
    ")\n",
    "fig.show(renderer=\"png\", width=1000, height=800)"
   ]
  },
  {
   "cell_type": "code",
   "execution_count": null,
   "metadata": {},
   "outputs": [],
   "source": [
    "fig = go.Figure(data=go.Choropleth(\n",
    "    locations=suicides.groupby('code').mean().index, # Spatial coordinates\n",
    "    z = suicides.query('3 < Month < 9').groupby('code').mean().suicide_rate - suicides.query('Month < 4 or Month > 10').groupby('code').mean().suicide_rate, # Data to be color-coded\n",
    "    locationmode = 'USA-states', # set of locations match entries in `locations`\n",
    "    colorscale = 'Reds',\n",
    "))\n",
    "fig.update_layout(\n",
    "    geo_scope='usa', # limit map scope to USA\n",
    ")\n",
    "fig.show(renderer=\"png\", width=1000, height=800)"
   ]
  },
  {
   "cell_type": "code",
   "execution_count": null,
   "metadata": {},
   "outputs": [],
   "source": [
    "fig = go.Figure(data=go.Choropleth(\n",
    "    locations=suicides.groupby('code').mean().index, # Spatial coordinates\n",
    "    z = (suicides.query('Year == 2011').groupby('code').mean().suicide_rate \n",
    "        - suicides.query('Year == 1999').groupby('code').mean().suicide_rate) / suicides.query('Year == 1999').groupby('code').mean().suicide_rate, # Data to be color-coded\n",
    "    locationmode = 'USA-states', # set of locations match entries in `locations`\n",
    "    colorscale='RdBu',\n",
    "    reversescale=True,\n",
    "    zmid=0\n",
    "#    colorbar_title = \"Millions USD\",\n",
    "))\n",
    "fig.update_layout(\n",
    "    title_text = \"Suicide Rate Change from 1999 to 2011\",\n",
    "    geo_scope='usa', # limit map scope to USA\n",
    ")\n",
    "fig.show(renderer=\"png\", width=1000, height=800)"
   ]
  },
  {
   "cell_type": "code",
   "execution_count": null,
   "metadata": {},
   "outputs": [],
   "source": [
    "fig = go.Figure(data=go.Choropleth(\n",
    "    locations=suicides.groupby('code').mean().index, # Spatial coordinates\n",
    "    z = suicides.groupby('code').mean().avg_max_heat_index, # Data to be color-coded\n",
    "    locationmode = 'USA-states', # set of locations match entries in `locations`\n",
    "    colorscale = 'Reds',\n",
    "#    colorbar_title = \"Millions USD\",\n",
    "))\n",
    "fig.update_layout(\n",
    "#    title_text = '2011 US Agriculture Exports by State',\n",
    "    geo_scope='usa', # limit map scope to USA\n",
    ")\n",
    "fig.show(renderer=\"png\", width=1000, height=800)"
   ]
  },
  {
   "cell_type": "code",
   "execution_count": null,
   "metadata": {},
   "outputs": [],
   "source": [
    "fig = go.Figure(data=go.Choropleth(\n",
    "    locations=suicides.groupby('code').mean().index, # Spatial coordinates\n",
    "    z = suicides.groupby('code').mean().avg_max_t, # Data to be color-coded\n",
    "    locationmode = 'USA-states', # set of locations match entries in `locations`\n",
    "    colorscale = 'Reds',\n",
    "#    colorbar_title = \"Millions USD\",\n",
    "))\n",
    "fig.update_layout(\n",
    "#    title_text = '2011 US Agriculture Exports by State',\n",
    "    geo_scope='usa', # limit map scope to USA\n",
    ")\n",
    "fig.show()"
   ]
  },
  {
   "cell_type": "code",
   "execution_count": null,
   "metadata": {},
   "outputs": [],
   "source": [
    "fig = go.Figure(data=go.Choropleth(\n",
    "    locations=suicides.query('3 < Month < 9').groupby('code').mean().index, # Spatial coordinates\n",
    "    z = suicides.query('3 < Month < 9').groupby('code').std().avg_max_heat_index, # Data to be color-coded\n",
    "    locationmode = 'USA-states', # set of locations match entries in `locations`\n",
    "    colorscale = 'Reds',\n",
    "#    colorbar_title = \"Millions USD\",\n",
    "))\n",
    "fig.update_layout(\n",
    "#    title_text = '2011 US Agriculture Exports by State',\n",
    "    geo_scope='usa', # limit map scope to USA\n",
    ")\n",
    "fig.show()"
   ]
  },
  {
   "cell_type": "code",
   "execution_count": null,
   "metadata": {},
   "outputs": [],
   "source": [
    "fig = go.Figure(data=go.Choropleth(\n",
    "    locations=suicides.query('3 < Month < 9').groupby('code').mean().index, # Spatial coordinates\n",
    "    z = suicides.query('3 < Month < 9').groupby('code').std().avg_max_heat_index, # Data to be color-coded\n",
    "    locationmode = 'USA-states', # set of locations match entries in `locations`\n",
    "    colorscale = 'Reds',\n",
    "#    colorbar_title = \"Millions USD\",\n",
    "))\n",
    "fig.update_layout(\n",
    "#    title_text = '2011 US Agriculture Exports by State',\n",
    "    geo_scope='usa', # limit map scope to USA\n",
    ")\n",
    "fig.show()"
   ]
  },
  {
   "cell_type": "code",
   "execution_count": null,
   "metadata": {},
   "outputs": [],
   "source": [
    "fig = go.Figure(data=go.Choropleth(\n",
    "    locations=suicides.query(f'3 < Month < 9 & heat_index_diff >= {q_diff_90}').groupby('code').count().index, # Spatial coordinates\n",
    "    z = suicides.query(f'3 < Month < 9 & heat_index_diff >= {q_diff_90}').groupby('code').count().heat_index_diff, # Data to be color-coded\n",
    "    locationmode = 'USA-states', # set of locations match entries in `locations`\n",
    "    colorscale = 'Reds',\n",
    "#    colorbar_title = \"Millions USD\",\n",
    "))\n",
    "fig.update_layout(\n",
    "#    title_text = '2011 US Agriculture Exports by State',\n",
    "    geo_scope='usa', # limit map scope to USA\n",
    ")\n",
    "fig.show(renderer=\"png\", width=1000, height=800)"
   ]
  },
  {
   "cell_type": "code",
   "execution_count": null,
   "metadata": {},
   "outputs": [],
   "source": [
    "suicides.query(f'3 < Month < 9 & heat_index_diff >= {q_diff_90}').groupby('code').count().index"
   ]
  },
  {
   "cell_type": "code",
   "execution_count": null,
   "metadata": {},
   "outputs": [],
   "source": [
    "plt.plot(suicides.query(f'3 < Month < 9 & heat_index_diff >= {q_diff_90}').groupby('Year').count().State)"
   ]
  },
  {
   "cell_type": "code",
   "execution_count": null,
   "metadata": {},
   "outputs": [],
   "source": [
    "suicides.query(f'3 < Month < 9 & heat_index_diff >= {q_diff_90}')"
   ]
  },
  {
   "cell_type": "markdown",
   "metadata": {},
   "source": [
    "## Detrend data experiment"
   ]
  },
  {
   "cell_type": "code",
   "execution_count": null,
   "metadata": {},
   "outputs": [],
   "source": [
    "plt.plot(suicides.groupby('Month Code').sum().Deaths)"
   ]
  },
  {
   "cell_type": "code",
   "execution_count": null,
   "metadata": {},
   "outputs": [],
   "source": [
    "from sklearn.linear_model import LinearRegression\n",
    "# fit linear model\n",
    "series = suicides.query('State == \"Missouri\"').copy()\n",
    "X = [i for i in range(0, len(series))]\n",
    "X = np.reshape(X, (len(X), 1))\n",
    "y = series.suicide_rate.reset_index(drop=True)\n",
    "model = LinearRegression()\n",
    "model.fit(X, y)\n",
    "# calculate trend\n",
    "trend = model.predict(X)\n",
    "# plot trend\n",
    "plt.plot(y)\n",
    "plt.plot(trend)\n",
    "plt.title(\"Missouri suicide rate 1999-2011\", size=24)\n",
    "plt.xlabel(\"months since Jan 1999\")"
   ]
  },
  {
   "cell_type": "code",
   "execution_count": null,
   "metadata": {},
   "outputs": [],
   "source": [
    "print(f\"best fit: y = {model.coef_[0]:.04f} x + {model.intercept_:.04f}\")"
   ]
  },
  {
   "cell_type": "code",
   "execution_count": null,
   "metadata": {},
   "outputs": [],
   "source": [
    "# detrend\n",
    "detrended = [y[i]-trend[i] + y.mean() for i in range(0, len(series))] \n",
    "# plot detrended\n",
    "plt.plot(detrended)\n",
    "plt.title(\"Missouri detrended suicide rate 1999-2011\", size=24)\n",
    "plt.xlabel(\"months since Jan 1999\")"
   ]
  },
  {
   "cell_type": "code",
   "execution_count": null,
   "metadata": {},
   "outputs": [],
   "source": [
    "series['detrended_suicide_rate'] = detrended"
   ]
  },
  {
   "cell_type": "code",
   "execution_count": null,
   "metadata": {},
   "outputs": [],
   "source": [
    "series"
   ]
  },
  {
   "cell_type": "code",
   "execution_count": null,
   "metadata": {},
   "outputs": [],
   "source": [
    "sns.distplot(series.suicide_rate, label='rate')\n",
    "sns.distplot(series.detrended_suicide_rate, label='detrended')\n",
    "plt.legend()"
   ]
  },
  {
   "cell_type": "code",
   "execution_count": null,
   "metadata": {},
   "outputs": [],
   "source": [
    "top_v_bottom(.90, .1, series.query('3 < Month < 9'), 'heat_index_diff', 'suicide_rate')\n",
    "plt.title(\"Missouri\",size='xx-large')"
   ]
  },
  {
   "cell_type": "code",
   "execution_count": null,
   "metadata": {},
   "outputs": [],
   "source": [
    "top_v_bottom(.90, .1, series.query('3 < Month < 9'), 'heat_index_diff', 'detrended_suicide_rate')\n",
    "plt.title(\"Missouri detrended\",size='xx-large')"
   ]
  },
  {
   "cell_type": "code",
   "execution_count": null,
   "metadata": {},
   "outputs": [],
   "source": [
    "plt.plot(series.heat_index_diff)"
   ]
  },
  {
   "cell_type": "code",
   "execution_count": null,
   "metadata": {},
   "outputs": [],
   "source": []
  }
 ],
 "metadata": {
  "language_info": {
   "name": "python",
   "pygments_lexer": "ipython3"
  }
 },
 "nbformat": 4,
 "nbformat_minor": 2
}

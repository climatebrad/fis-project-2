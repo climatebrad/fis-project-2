{
 "cells": [
  {
   "cell_type": "markdown",
   "metadata": {},
   "source": [
    "# Dataset exploration"
   ]
  },
  {
   "cell_type": "markdown",
   "metadata": {},
   "source": [
    "* [Annual mortality and causes by county, 1979-1988](https://www.cdc.gov/nchs/data_access/cmf.htm)\n",
    "* [Compressed mortality info, 1968-2016](https://wonder.cdc.gov/controller/datarequest/D140)"
   ]
  },
  {
   "cell_type": "markdown",
   "metadata": {},
   "source": [
    "[Rainfall and turnout](https://faculty.ucmerced.edu/thansford/Articles/The%20Republicans%20Should%20Pray%20for%20Rain%20-%20Weather,%20Turnour,%20and%20Voting%20in%20U.S.%20Presidential%20Elections.pdf)"
   ]
  },
  {
   "cell_type": "markdown",
   "metadata": {},
   "source": [
    "[Higher temperatures increase suicide rates in the\n",
    "United States and Mexico](https://web.stanford.edu/~mburke/papers/BurkeEtAl_NCC_2018.pdf)"
   ]
  },
  {
   "cell_type": "markdown",
   "metadata": {},
   "source": [
    "As temperatures go up, suicide rates go up.\n",
    "Heat waves, countries or regions that go through heat waves. During those times there were significant differences in suicide rates.\n",
    "\n",
    "Is there monthly data?"
   ]
  },
  {
   "cell_type": "markdown",
   "metadata": {},
   "source": [
    "[WHO mortality data](https://www.who.int/healthinfo/statistics/mortality_rawdata/en/)"
   ]
  },
  {
   "cell_type": "markdown",
   "metadata": {},
   "source": [
    "[CDC Multiple Mortality Cause files](https://www.cdc.gov/nchs/data_access/vitalstatsonline.htm#Mortality_Multiple)"
   ]
  },
  {
   "cell_type": "markdown",
   "metadata": {},
   "source": [
    "[Suicides and gun ownership](https://mason.gmu.edu/~atabarro/BriggsTabarrokFirearmsSuicide.pdf)"
   ]
  },
  {
   "cell_type": "code",
   "execution_count": null,
   "metadata": {},
   "outputs": [],
   "source": [
    "import pandas as pd\n",
    "import numpy as np\n",
    "import matplotlib.pyplot as plt\n",
    "import seaborn as sns\n",
    "import scipy.stats as stats"
   ]
  },
  {
   "cell_type": "markdown",
   "metadata": {},
   "source": [
    "# Suicides by Month, Year, State\n",
    "\n",
    "`suicides.txt` from https://wonder.cdc.gov/wonder/help/mcd.html, restricted to suicides\n",
    "* https://wonder.cdc.gov/mcd-icd10.html\n",
    "* Click Agree\n",
    "* https://wonder.cdc.gov/controller/datarequest/D77\n",
    "* Group results by State, Year, Month\n",
    "* Ages exclude \"Not stated\"; Hispanic Origin exclude \"Not stated\"\n",
    "* Underlying cause of death: X60-X84 (Intentional self-harm)"
   ]
  },
  {
   "cell_type": "code",
   "execution_count": null,
   "metadata": {},
   "outputs": [],
   "source": [
    "suicides = pd.read_csv('data/suicides_month_year_state_1999_2017.txt', sep='\\t', na_values='Not Applicable')\n",
    "suicides = suicides.dropna(subset=['State'])\n",
    "suicides = suicides.drop(columns='Notes')"
   ]
  },
  {
   "cell_type": "code",
   "execution_count": null,
   "metadata": {},
   "outputs": [],
   "source": [
    "suicides.head()"
   ]
  },
  {
   "cell_type": "code",
   "execution_count": null,
   "metadata": {},
   "outputs": [],
   "source": [
    "suicides['Month'] = suicides['Month Code'].str.slice(-2).astype(np.int64)"
   ]
  },
  {
   "cell_type": "code",
   "execution_count": null,
   "metadata": {},
   "outputs": [],
   "source": [
    "suicides.info()"
   ]
  },
  {
   "cell_type": "code",
   "execution_count": null,
   "metadata": {},
   "outputs": [],
   "source": [
    "suicides = suicides.rename(columns={'Crude Rate':'suicide_rate'})"
   ]
  },
  {
   "cell_type": "markdown",
   "metadata": {},
   "source": [
    "# Need to get population data to calculate rate. \n",
    "CDC only provides population data for an annual-level search\n",
    "* https://wonder.cdc.gov/mcd-icd10.html\n",
    "* Click Agree\n",
    "* https://wonder.cdc.gov/controller/datarequest/D77\n",
    "* Group results by State, Year\n",
    "* Ages exclude \"Not stated\"; Hispanic Origin exclude \"Not stated\"\n",
    "* Underlying cause of death: X60-X84 (Intentional self-harm)"
   ]
  },
  {
   "cell_type": "code",
   "execution_count": null,
   "metadata": {},
   "outputs": [],
   "source": [
    "suicides_pop = pd.read_csv('data/suicides_year_1999_2017.txt', sep='\\t', na_values='Not Applicable')\n",
    "suicides_pop = suicides_pop.dropna(subset=['State'])\n",
    "suicides_pop = suicides_pop.drop(columns='Notes')\n",
    "suicides_pop"
   ]
  },
  {
   "cell_type": "markdown",
   "metadata": {},
   "source": [
    "## Add population numbers to our suicides dataframe"
   ]
  },
  {
   "cell_type": "code",
   "execution_count": null,
   "metadata": {},
   "outputs": [],
   "source": [
    "suicides['Population'] = suicides.merge(suicides_pop, on=['State', 'Year'])['Population_y']"
   ]
  },
  {
   "cell_type": "code",
   "execution_count": null,
   "metadata": {},
   "outputs": [],
   "source": [
    "suicides['Crude Rate'] = suicides.Deaths / suicides.Population * 100_000"
   ]
  },
  {
   "cell_type": "code",
   "execution_count": null,
   "metadata": {},
   "outputs": [],
   "source": [
    "suicides"
   ]
  },
  {
   "cell_type": "markdown",
   "metadata": {},
   "source": [
    "# Download heat-wave data\n",
    "* Database: [North America Land Data Assimilation System (NLDAS) Daily Air Temperatures and Heat Index (1979-2011)](https://wonder.cdc.gov/nasa-nldas.html)\n",
    "* Group results by State, Year, Month\n",
    "* Dataset goes from 1999 to 2011"
   ]
  },
  {
   "cell_type": "code",
   "execution_count": null,
   "metadata": {},
   "outputs": [],
   "source": [
    "heat = pd.read_csv('data/temps_by_state_month_1999_2011.txt', sep='\\t', na_values='Missing')\n",
    "heat = heat.dropna(subset=['State'])\n",
    "heat['Month'] = heat['Month, Year Code'].str.slice(-2).astype(np.int64)\n",
    "heat['Year'] = heat['Month, Year Code'].str.slice(0, 4).astype(np.int64)\n",
    "heat = heat.drop(columns='Notes')\n",
    "heat"
   ]
  },
  {
   "cell_type": "code",
   "execution_count": null,
   "metadata": {},
   "outputs": [],
   "source": [
    "heat[heat.Year == 1999].groupby(['State', 'Month']).mean().query('State == \"Alabama\"')"
   ]
  },
  {
   "cell_type": "code",
   "execution_count": null,
   "metadata": {},
   "outputs": [],
   "source": [
    "heat.groupby('State').mean()"
   ]
  },
  {
   "cell_type": "markdown",
   "metadata": {},
   "source": [
    "# Merge suicide and heat data"
   ]
  },
  {
   "cell_type": "code",
   "execution_count": null,
   "metadata": {},
   "outputs": [],
   "source": [
    "heat = heat.rename(columns={'Avg Daily Max Air Temperature (F)':'avg_max_t',\n",
    "                    'Avg Daily Min Air Temperature (F)':'avg_min_t',\n",
    "                    'Avg Daily Max Heat Index (F)':'avg_max_heat_index',\n",
    "                    'Month, Year Code' : 'Month Code'})"
   ]
  },
  {
   "cell_type": "code",
   "execution_count": null,
   "metadata": {},
   "outputs": [],
   "source": [
    "suicides = suicides.merge(heat[['State', 'Month Code', 'avg_max_t', 'avg_min_t', 'avg_max_heat_index']], \n",
    "               on=['State', 'Month Code'])"
   ]
  },
  {
   "cell_type": "code",
   "execution_count": null,
   "metadata": {},
   "outputs": [],
   "source": [
    "suicides"
   ]
  },
  {
   "cell_type": "code",
   "execution_count": null,
   "metadata": {},
   "outputs": [],
   "source": [
    "suicides['min_t_diff'] = suicides.avg_min_t - suicides.groupby(['State', 'Month']).avg_min_t.transform('mean')\n",
    "suicides['max_t_diff'] = suicides.avg_max_t - suicides.groupby(['State', 'Month']).avg_max_t.transform('mean')\n",
    "suicides['heat_index_diff'] = suicides.avg_max_heat_index - suicides.groupby(['State', 'Month']).avg_max_heat_index.transform('mean')"
   ]
  },
  {
   "cell_type": "markdown",
   "metadata": {},
   "source": [
    "## Write cleaned dataset to file"
   ]
  },
  {
   "cell_type": "code",
   "execution_count": null,
   "metadata": {},
   "outputs": [],
   "source": [
    "suicides.write_csv('data/suicides_heat.csv')"
   ]
  },
  {
   "cell_type": "markdown",
   "metadata": {},
   "source": [
    "# Exploratory Data Analysis"
   ]
  },
  {
   "cell_type": "code",
   "execution_count": null,
   "metadata": {},
   "outputs": [],
   "source": [
    "sns.barplot(x='State', y='suicide_rate', data=suicides)"
   ]
  },
  {
   "cell_type": "code",
   "execution_count": null,
   "metadata": {},
   "outputs": [],
   "source": [
    "sns.scatterplot(x='avg_max_t', y='suicide_rate',  data=suicides.query('4 < Month < 10'), hue='Month', legend='full')"
   ]
  },
  {
   "cell_type": "code",
   "execution_count": null,
   "metadata": {},
   "outputs": [],
   "source": [
    "sns.scatterplot(x='avg_max_heat_index', \n",
    "                y='suicide_rate', data=suicides.query('4 < Month < 10'), hue='Month', legend='full')"
   ]
  },
  {
   "cell_type": "code",
   "execution_count": null,
   "metadata": {},
   "outputs": [],
   "source": [
    "sns.lmplot(x='avg_max_heat_index', \n",
    "                y='suicide_rate', data=suicides.query('4 < Month < 10'), legend='full')"
   ]
  },
  {
   "cell_type": "code",
   "execution_count": null,
   "metadata": {},
   "outputs": [],
   "source": [
    "sns.scatterplot(x='heat_index_diff', y='suicide_rate', data=suicides.query('4 < Month < 10'), hue='Month')"
   ]
  },
  {
   "cell_type": "markdown",
   "metadata": {},
   "source": [
    "What if we compare when heat_index diff > 5 to when heat_index diff < 5"
   ]
  },
  {
   "cell_type": "code",
   "execution_count": null,
   "metadata": {},
   "outputs": [],
   "source": [
    "sns.lmplot(x='heat_index_diff', y='suicide_rate', data=suicides.query('4 < Month < 10'))"
   ]
  },
  {
   "cell_type": "code",
   "execution_count": null,
   "metadata": {},
   "outputs": [],
   "source": [
    "sns.scatterplot(x='max_t_diff', y='suicide_rate', data=suicides.query('4 < Month < 10'), hue='Month')"
   ]
  },
  {
   "cell_type": "code",
   "execution_count": null,
   "metadata": {},
   "outputs": [],
   "source": [
    "sns.scatterplot(x='min_t_diff', y='suicide_rate', data=suicides.query('4 < Month < 10'), hue='Month')"
   ]
  },
  {
   "cell_type": "markdown",
   "metadata": {},
   "source": [
    "There may be a time effect over the years!"
   ]
  },
  {
   "cell_type": "code",
   "execution_count": null,
   "metadata": {},
   "outputs": [],
   "source": [
    "sns.scatterplot(x='Month Code', y='suicide_rate', data=suicides[suicides.State == 'California'],hue='Month', legend='full')"
   ]
  },
  {
   "cell_type": "markdown",
   "metadata": {},
   "source": [
    "There is a strong annual trend."
   ]
  },
  {
   "cell_type": "code",
   "execution_count": null,
   "metadata": {},
   "outputs": [],
   "source": [
    "plt.plot(suicides.groupby('Year').sum().Deaths)"
   ]
  },
  {
   "cell_type": "markdown",
   "metadata": {},
   "source": [
    "Chi-squared tells us whether two categorical variables are independent"
   ]
  },
  {
   "cell_type": "markdown",
   "metadata": {},
   "source": [
    "\n",
    "understand occurences with one object and many factors\n",
    "chi-squared test\n",
    "```\n",
    "                 99   | 00   | 01    | 02 | 03 ... 17\n",
    "AL suicides      sum    sum    sum    sum   sum ...\n",
    "CA \n",
    "CO\n",
    "...\n",
    "```"
   ]
  },
  {
   "cell_type": "code",
   "execution_count": null,
   "metadata": {},
   "outputs": [],
   "source": [
    "in summer months: categorical variable low heat,  high heat "
   ]
  },
  {
   "cell_type": "markdown",
   "metadata": {},
   "source": [
    "## Hypothesis 1 - winter gets more suicides than summer"
   ]
  },
  {
   "cell_type": "code",
   "execution_count": null,
   "metadata": {},
   "outputs": [],
   "source": [
    "summer = suicides.query('5 < Month < 9')\n",
    "winter = suicides.query('Month < 4 or Month > 10')\n",
    "spring = suicides.query('3 < Month < 6')\n",
    "longsummer = suicides.query('3 < Month < 9')\n",
    "fall = suicides.query('8 < Month < 11')"
   ]
  },
  {
   "cell_type": "code",
   "execution_count": null,
   "metadata": {},
   "outputs": [],
   "source": [
    "plt.hist(longsummer.suicide_rate, bins='auto', alpha=.5, label='April-August')\n",
    "plt.hist(winter.suicide_rate, bins='auto', alpha=.5, label='November-March')\n",
    "# plt.hist(fall.suicide_rate, bins='auto', alpha=.5, label='September-October')\n",
    "plt.legend()"
   ]
  },
  {
   "cell_type": "code",
   "execution_count": null,
   "metadata": {},
   "outputs": [],
   "source": [
    "stats.ttest_ind(winter.suicide_rate, longsummer.suicide_rate, equal_var=False)"
   ]
  },
  {
   "cell_type": "markdown",
   "metadata": {},
   "source": [
    "## Let's cancel out year effect"
   ]
  },
  {
   "cell_type": "code",
   "execution_count": null,
   "metadata": {},
   "outputs": [],
   "source": [
    "# mean out the years\n",
    "# observations are states\n",
    "# group by states mean of rate by month\n",
    "suicides_by_month = suicides.groupby(['Month',\n",
    "                  'State']).agg('mean').reset_index() \\\n",
    "                .drop(columns=['Year','Year Code','min_t_diff', 'max_t_diff', 'heat_index_diff'])\n",
    "suicides_by_month"
   ]
  },
  {
   "cell_type": "markdown",
   "metadata": {},
   "source": [
    "Paired t-test. Compare the sum of the months against the mean of the months"
   ]
  },
  {
   "cell_type": "code",
   "execution_count": null,
   "metadata": {},
   "outputs": [],
   "source": [
    "summer_by_month = suicides_by_month.query('3 < Month < 9')\n",
    "winter_by_month = suicides_by_month.query('Month < 4 or Month > 10')"
   ]
  },
  {
   "cell_type": "code",
   "execution_count": null,
   "metadata": {},
   "outputs": [],
   "source": [
    "summer_by_month.groupby('State').mean()['suicide_rate']"
   ]
  },
  {
   "cell_type": "code",
   "execution_count": null,
   "metadata": {},
   "outputs": [],
   "source": [
    "stats.ttest_rel(summer_by_month.groupby('State').mean()['suicide_rate'], \n",
    "                winter_by_month.groupby('State').mean()['suicide_rate'])"
   ]
  },
  {
   "cell_type": "code",
   "execution_count": null,
   "metadata": {},
   "outputs": [],
   "source": [
    "# Cohen's d\n",
    "def cohen_d(x,y):\n",
    "    nx = len(x)\n",
    "    ny = len(y)\n",
    "    dof = nx + ny - 2\n",
    "    return (np.mean(x) - np.mean(y)) / np.sqrt(((nx-1)*np.std(x, ddof=1) ** 2 + (ny-1)*np.std(y, ddof=1) ** 2) / dof)\n",
    "\n",
    "cohen_d(winter.suicide_rate, longsummer.suicide_rate)"
   ]
  },
  {
   "cell_type": "markdown",
   "metadata": {},
   "source": [
    "Nope, in fact spring & summer are worse than winter!"
   ]
  },
  {
   "cell_type": "code",
   "execution_count": null,
   "metadata": {},
   "outputs": [],
   "source": [
    "sns.distplot(suicides.query('3 < Month < 9').avg_max_heat_index.dropna())"
   ]
  },
  {
   "cell_type": "code",
   "execution_count": null,
   "metadata": {},
   "outputs": [],
   "source": [
    "sns.distplot(suicides.query('3 < Month < 9').heat_index_diff.dropna())"
   ]
  },
  {
   "cell_type": "code",
   "execution_count": null,
   "metadata": {},
   "outputs": [],
   "source": [
    "q_75 = np.quantile(suicides.query('3 < Month < 9').avg_max_heat_index.dropna(), .75)\n",
    "q_75"
   ]
  },
  {
   "cell_type": "code",
   "execution_count": null,
   "metadata": {},
   "outputs": [],
   "source": [
    "q_95 = np.quantile(suicides.query('3 < Month < 9').avg_max_heat_index.dropna(), .95)\n",
    "q_95"
   ]
  },
  {
   "cell_type": "code",
   "execution_count": null,
   "metadata": {},
   "outputs": [],
   "source": [
    "low_heat = longsummer.query(f'avg_max_heat_index < {q_75}')\n",
    "high_heat = longsummer.query(f'avg_max_heat_index > {q_95}')\n",
    "stats.ttest_ind(low_heat.suicide_rate, high_heat.suicide_rate, equal_var=False)"
   ]
  },
  {
   "cell_type": "code",
   "execution_count": null,
   "metadata": {},
   "outputs": [],
   "source": [
    "q_diff_75 = np.quantile(suicides.query('3 < Month < 9').heat_index_diff.dropna(), .75)\n",
    "q_diff_75"
   ]
  },
  {
   "cell_type": "code",
   "execution_count": null,
   "metadata": {},
   "outputs": [],
   "source": [
    "q_diff_95 = "
   ]
  },
  {
   "cell_type": "code",
   "execution_count": null,
   "metadata": {},
   "outputs": [],
   "source": [
    "suicides.query('3 < Month < 9').groupby('Year').avg_max_heat_index.hist(alpha=.25, bins='auto')"
   ]
  },
  {
   "cell_type": "code",
   "execution_count": null,
   "metadata": {},
   "outputs": [],
   "source": [
    "suicides.query('3 < Month < 9').groupby('Year').heat_index_diff.hist(alpha=.25, bins='auto')"
   ]
  },
  {
   "cell_type": "code",
   "execution_count": null,
   "metadata": {},
   "outputs": [],
   "source": [
    "sns.distplot(suicides.query('3 < Month < 9').heat_index_diff.dropna())"
   ]
  },
  {
   "cell_type": "code",
   "execution_count": null,
   "metadata": {},
   "outputs": [],
   "source": [
    "np.quantile(suicides.query('3 < Month < 9').heat_index_diff.dropna(),.25)"
   ]
  },
  {
   "cell_type": "markdown",
   "metadata": {},
   "source": [
    "# Download suicide data - county & month level\n",
    "* Database: Multiple Cause of Death, 1999-2017 (D77)\n",
    "* Group results by State, County, Year, Month\n",
    "* Underlying Cause of Death: UCD-ICD10 Code X60-X84\n"
   ]
  },
  {
   "cell_type": "code",
   "execution_count": null,
   "metadata": {},
   "outputs": [],
   "source": [
    "suicides = {}\n",
    "suicides[1999] = pd.read_csv('data/suicides_by_month/suicides_1999.txt',sep='\\t')\n",
    "suicides[1999].head()\n"
   ]
  },
  {
   "cell_type": "markdown",
   "metadata": {},
   "source": [
    "# Heat wave days"
   ]
  },
  {
   "cell_type": "code",
   "execution_count": null,
   "metadata": {},
   "outputs": [],
   "source": [
    "df_hw = pd.read_csv('data/heat_wave_days_1981.txt', sep='\\t')"
   ]
  },
  {
   "cell_type": "code",
   "execution_count": null,
   "metadata": {},
   "outputs": [],
   "source": [
    "df_hw.head()"
   ]
  },
  {
   "cell_type": "markdown",
   "metadata": {},
   "source": [
    "# CDC API (too hard to use)"
   ]
  },
  {
   "cell_type": "code",
   "execution_count": null,
   "metadata": {},
   "outputs": [],
   "source": [
    "# \"https://wonder.cdc.gov/controller/datarequest/[database ID]\"\n",
    "base_url = 'https://wonder.cdc.gov/controller/datarequest/'\n",
    "# D60 = North America Land Data Assimilation System (NLDAS) Daily Air Temperatures and Heat Index (1979-2011)\n",
    "db_id = 'D60'\n",
    "params = { 'accept_datause_restrictions' : 'true' }"
   ]
  }
 ],
 "metadata": {
  "language_info": {
   "name": "python",
   "pygments_lexer": "ipython3"
  }
 },
 "nbformat": 4,
 "nbformat_minor": 2
}
